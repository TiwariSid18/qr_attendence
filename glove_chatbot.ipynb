{
 "cells": [
  {
   "cell_type": "code",
   "execution_count": 1,
   "id": "82e4aa92-98cd-44b1-ae6e-813c97261348",
   "metadata": {},
   "outputs": [
    {
     "name": "stdout",
     "output_type": "stream",
     "text": [
      "Requirement already satisfied: langchain in c:\\users\\siddharthtiwari1\\appdata\\local\\programs\\python\\python310\\lib\\site-packages (0.0.228)\n",
      "Requirement already satisfied: PyYAML>=5.4.1 in c:\\users\\siddharthtiwari1\\appdata\\local\\programs\\python\\python310\\lib\\site-packages (from langchain) (6.0.1)\n",
      "Requirement already satisfied: SQLAlchemy<3,>=1.4 in c:\\users\\siddharthtiwari1\\appdata\\local\\programs\\python\\python310\\lib\\site-packages (from langchain) (2.0.28)\n",
      "Requirement already satisfied: aiohttp<4.0.0,>=3.8.3 in c:\\users\\siddharthtiwari1\\appdata\\local\\programs\\python\\python310\\lib\\site-packages (from langchain) (3.9.3)\n",
      "Requirement already satisfied: async-timeout<5.0.0,>=4.0.0 in c:\\users\\siddharthtiwari1\\appdata\\local\\programs\\python\\python310\\lib\\site-packages (from langchain) (4.0.3)\n",
      "Requirement already satisfied: dataclasses-json<0.6.0,>=0.5.7 in c:\\users\\siddharthtiwari1\\appdata\\local\\programs\\python\\python310\\lib\\site-packages (from langchain) (0.5.14)\n",
      "Requirement already satisfied: langchainplus-sdk<0.0.21,>=0.0.20 in c:\\users\\siddharthtiwari1\\appdata\\local\\programs\\python\\python310\\lib\\site-packages (from langchain) (0.0.20)\n",
      "Requirement already satisfied: numexpr<3.0.0,>=2.8.4 in c:\\users\\siddharthtiwari1\\appdata\\local\\programs\\python\\python310\\lib\\site-packages (from langchain) (2.9.0)\n",
      "Requirement already satisfied: numpy<2,>=1 in c:\\users\\siddharthtiwari1\\appdata\\local\\programs\\python\\python310\\lib\\site-packages (from langchain) (1.26.4)\n",
      "Requirement already satisfied: openapi-schema-pydantic<2.0,>=1.2 in c:\\users\\siddharthtiwari1\\appdata\\local\\programs\\python\\python310\\lib\\site-packages (from langchain) (1.2.4)\n",
      "Requirement already satisfied: pydantic<2,>=1 in c:\\users\\siddharthtiwari1\\appdata\\local\\programs\\python\\python310\\lib\\site-packages (from langchain) (1.10.14)\n",
      "Requirement already satisfied: requests<3,>=2 in c:\\users\\siddharthtiwari1\\appdata\\local\\programs\\python\\python310\\lib\\site-packages (from langchain) (2.31.0)\n",
      "Requirement already satisfied: tenacity<9.0.0,>=8.1.0 in c:\\users\\siddharthtiwari1\\appdata\\local\\programs\\python\\python310\\lib\\site-packages (from langchain) (8.2.3)\n",
      "Requirement already satisfied: aiosignal>=1.1.2 in c:\\users\\siddharthtiwari1\\appdata\\local\\programs\\python\\python310\\lib\\site-packages (from aiohttp<4.0.0,>=3.8.3->langchain) (1.3.1)\n",
      "Requirement already satisfied: attrs>=17.3.0 in c:\\users\\siddharthtiwari1\\appdata\\local\\programs\\python\\python310\\lib\\site-packages (from aiohttp<4.0.0,>=3.8.3->langchain) (23.2.0)\n",
      "Requirement already satisfied: frozenlist>=1.1.1 in c:\\users\\siddharthtiwari1\\appdata\\local\\programs\\python\\python310\\lib\\site-packages (from aiohttp<4.0.0,>=3.8.3->langchain) (1.4.1)\n",
      "Requirement already satisfied: multidict<7.0,>=4.5 in c:\\users\\siddharthtiwari1\\appdata\\local\\programs\\python\\python310\\lib\\site-packages (from aiohttp<4.0.0,>=3.8.3->langchain) (6.0.5)\n",
      "Requirement already satisfied: yarl<2.0,>=1.0 in c:\\users\\siddharthtiwari1\\appdata\\local\\programs\\python\\python310\\lib\\site-packages (from aiohttp<4.0.0,>=3.8.3->langchain) (1.9.4)\n",
      "Requirement already satisfied: marshmallow<4.0.0,>=3.18.0 in c:\\users\\siddharthtiwari1\\appdata\\local\\programs\\python\\python310\\lib\\site-packages (from dataclasses-json<0.6.0,>=0.5.7->langchain) (3.21.1)\n",
      "Requirement already satisfied: typing-inspect<1,>=0.4.0 in c:\\users\\siddharthtiwari1\\appdata\\local\\programs\\python\\python310\\lib\\site-packages (from dataclasses-json<0.6.0,>=0.5.7->langchain) (0.9.0)\n",
      "Requirement already satisfied: typing-extensions>=4.2.0 in c:\\users\\siddharthtiwari1\\appdata\\local\\programs\\python\\python310\\lib\\site-packages (from pydantic<2,>=1->langchain) (4.10.0)\n",
      "Requirement already satisfied: charset-normalizer<4,>=2 in c:\\users\\siddharthtiwari1\\appdata\\local\\programs\\python\\python310\\lib\\site-packages (from requests<3,>=2->langchain) (3.3.2)\n",
      "Requirement already satisfied: idna<4,>=2.5 in c:\\users\\siddharthtiwari1\\appdata\\local\\programs\\python\\python310\\lib\\site-packages (from requests<3,>=2->langchain) (3.6)\n",
      "Requirement already satisfied: urllib3<3,>=1.21.1 in c:\\users\\siddharthtiwari1\\appdata\\local\\programs\\python\\python310\\lib\\site-packages (from requests<3,>=2->langchain) (2.2.1)\n",
      "Requirement already satisfied: certifi>=2017.4.17 in c:\\users\\siddharthtiwari1\\appdata\\local\\programs\\python\\python310\\lib\\site-packages (from requests<3,>=2->langchain) (2024.2.2)\n",
      "Requirement already satisfied: greenlet!=0.4.17 in c:\\users\\siddharthtiwari1\\appdata\\local\\programs\\python\\python310\\lib\\site-packages (from SQLAlchemy<3,>=1.4->langchain) (3.0.3)\n",
      "Requirement already satisfied: packaging>=17.0 in c:\\users\\siddharthtiwari1\\appdata\\local\\programs\\python\\python310\\lib\\site-packages (from marshmallow<4.0.0,>=3.18.0->dataclasses-json<0.6.0,>=0.5.7->langchain) (23.2)\n",
      "Requirement already satisfied: mypy-extensions>=0.3.0 in c:\\users\\siddharthtiwari1\\appdata\\local\\programs\\python\\python310\\lib\\site-packages (from typing-inspect<1,>=0.4.0->dataclasses-json<0.6.0,>=0.5.7->langchain) (1.0.0)\n",
      "Requirement already satisfied: langchain-community in c:\\users\\siddharthtiwari1\\appdata\\local\\programs\\python\\python310\\lib\\site-packages (0.0.28)\n",
      "Requirement already satisfied: PyYAML>=5.3 in c:\\users\\siddharthtiwari1\\appdata\\local\\programs\\python\\python310\\lib\\site-packages (from langchain-community) (6.0.1)\n",
      "Requirement already satisfied: SQLAlchemy<3,>=1.4 in c:\\users\\siddharthtiwari1\\appdata\\local\\programs\\python\\python310\\lib\\site-packages (from langchain-community) (2.0.28)\n",
      "Requirement already satisfied: aiohttp<4.0.0,>=3.8.3 in c:\\users\\siddharthtiwari1\\appdata\\local\\programs\\python\\python310\\lib\\site-packages (from langchain-community) (3.9.3)\n",
      "Requirement already satisfied: dataclasses-json<0.7,>=0.5.7 in c:\\users\\siddharthtiwari1\\appdata\\local\\programs\\python\\python310\\lib\\site-packages (from langchain-community) (0.5.14)\n",
      "Requirement already satisfied: langchain-core<0.2.0,>=0.1.31 in c:\\users\\siddharthtiwari1\\appdata\\local\\programs\\python\\python310\\lib\\site-packages (from langchain-community) (0.1.31)\n",
      "Requirement already satisfied: langsmith<0.2.0,>=0.1.0 in c:\\users\\siddharthtiwari1\\appdata\\local\\programs\\python\\python310\\lib\\site-packages (from langchain-community) (0.1.25)\n",
      "Requirement already satisfied: numpy<2,>=1 in c:\\users\\siddharthtiwari1\\appdata\\local\\programs\\python\\python310\\lib\\site-packages (from langchain-community) (1.26.4)\n",
      "Requirement already satisfied: requests<3,>=2 in c:\\users\\siddharthtiwari1\\appdata\\local\\programs\\python\\python310\\lib\\site-packages (from langchain-community) (2.31.0)\n",
      "Requirement already satisfied: tenacity<9.0.0,>=8.1.0 in c:\\users\\siddharthtiwari1\\appdata\\local\\programs\\python\\python310\\lib\\site-packages (from langchain-community) (8.2.3)\n",
      "Requirement already satisfied: aiosignal>=1.1.2 in c:\\users\\siddharthtiwari1\\appdata\\local\\programs\\python\\python310\\lib\\site-packages (from aiohttp<4.0.0,>=3.8.3->langchain-community) (1.3.1)\n",
      "Requirement already satisfied: attrs>=17.3.0 in c:\\users\\siddharthtiwari1\\appdata\\local\\programs\\python\\python310\\lib\\site-packages (from aiohttp<4.0.0,>=3.8.3->langchain-community) (23.2.0)\n",
      "Requirement already satisfied: frozenlist>=1.1.1 in c:\\users\\siddharthtiwari1\\appdata\\local\\programs\\python\\python310\\lib\\site-packages (from aiohttp<4.0.0,>=3.8.3->langchain-community) (1.4.1)\n",
      "Requirement already satisfied: multidict<7.0,>=4.5 in c:\\users\\siddharthtiwari1\\appdata\\local\\programs\\python\\python310\\lib\\site-packages (from aiohttp<4.0.0,>=3.8.3->langchain-community) (6.0.5)\n",
      "Requirement already satisfied: yarl<2.0,>=1.0 in c:\\users\\siddharthtiwari1\\appdata\\local\\programs\\python\\python310\\lib\\site-packages (from aiohttp<4.0.0,>=3.8.3->langchain-community) (1.9.4)\n",
      "Requirement already satisfied: async-timeout<5.0,>=4.0 in c:\\users\\siddharthtiwari1\\appdata\\local\\programs\\python\\python310\\lib\\site-packages (from aiohttp<4.0.0,>=3.8.3->langchain-community) (4.0.3)\n",
      "Requirement already satisfied: marshmallow<4.0.0,>=3.18.0 in c:\\users\\siddharthtiwari1\\appdata\\local\\programs\\python\\python310\\lib\\site-packages (from dataclasses-json<0.7,>=0.5.7->langchain-community) (3.21.1)\n",
      "Requirement already satisfied: typing-inspect<1,>=0.4.0 in c:\\users\\siddharthtiwari1\\appdata\\local\\programs\\python\\python310\\lib\\site-packages (from dataclasses-json<0.7,>=0.5.7->langchain-community) (0.9.0)\n",
      "Requirement already satisfied: anyio<5,>=3 in c:\\users\\siddharthtiwari1\\appdata\\local\\programs\\python\\python310\\lib\\site-packages (from langchain-core<0.2.0,>=0.1.31->langchain-community) (4.3.0)\n",
      "Requirement already satisfied: jsonpatch<2.0,>=1.33 in c:\\users\\siddharthtiwari1\\appdata\\local\\programs\\python\\python310\\lib\\site-packages (from langchain-core<0.2.0,>=0.1.31->langchain-community) (1.33)\n",
      "Requirement already satisfied: packaging<24.0,>=23.2 in c:\\users\\siddharthtiwari1\\appdata\\local\\programs\\python\\python310\\lib\\site-packages (from langchain-core<0.2.0,>=0.1.31->langchain-community) (23.2)\n",
      "Requirement already satisfied: pydantic<3,>=1 in c:\\users\\siddharthtiwari1\\appdata\\local\\programs\\python\\python310\\lib\\site-packages (from langchain-core<0.2.0,>=0.1.31->langchain-community) (1.10.14)\n",
      "Requirement already satisfied: orjson<4.0.0,>=3.9.14 in c:\\users\\siddharthtiwari1\\appdata\\local\\programs\\python\\python310\\lib\\site-packages (from langsmith<0.2.0,>=0.1.0->langchain-community) (3.9.15)\n",
      "Requirement already satisfied: charset-normalizer<4,>=2 in c:\\users\\siddharthtiwari1\\appdata\\local\\programs\\python\\python310\\lib\\site-packages (from requests<3,>=2->langchain-community) (3.3.2)\n",
      "Requirement already satisfied: idna<4,>=2.5 in c:\\users\\siddharthtiwari1\\appdata\\local\\programs\\python\\python310\\lib\\site-packages (from requests<3,>=2->langchain-community) (3.6)\n",
      "Requirement already satisfied: urllib3<3,>=1.21.1 in c:\\users\\siddharthtiwari1\\appdata\\local\\programs\\python\\python310\\lib\\site-packages (from requests<3,>=2->langchain-community) (2.2.1)\n",
      "Requirement already satisfied: certifi>=2017.4.17 in c:\\users\\siddharthtiwari1\\appdata\\local\\programs\\python\\python310\\lib\\site-packages (from requests<3,>=2->langchain-community) (2024.2.2)\n",
      "Requirement already satisfied: typing-extensions>=4.6.0 in c:\\users\\siddharthtiwari1\\appdata\\local\\programs\\python\\python310\\lib\\site-packages (from SQLAlchemy<3,>=1.4->langchain-community) (4.10.0)\n",
      "Requirement already satisfied: greenlet!=0.4.17 in c:\\users\\siddharthtiwari1\\appdata\\local\\programs\\python\\python310\\lib\\site-packages (from SQLAlchemy<3,>=1.4->langchain-community) (3.0.3)\n",
      "Requirement already satisfied: sniffio>=1.1 in c:\\users\\siddharthtiwari1\\appdata\\local\\programs\\python\\python310\\lib\\site-packages (from anyio<5,>=3->langchain-core<0.2.0,>=0.1.31->langchain-community) (1.3.1)\n",
      "Requirement already satisfied: exceptiongroup>=1.0.2 in c:\\users\\siddharthtiwari1\\appdata\\local\\programs\\python\\python310\\lib\\site-packages (from anyio<5,>=3->langchain-core<0.2.0,>=0.1.31->langchain-community) (1.2.0)\n",
      "Requirement already satisfied: jsonpointer>=1.9 in c:\\users\\siddharthtiwari1\\appdata\\local\\programs\\python\\python310\\lib\\site-packages (from jsonpatch<2.0,>=1.33->langchain-core<0.2.0,>=0.1.31->langchain-community) (2.4)\n",
      "Requirement already satisfied: mypy-extensions>=0.3.0 in c:\\users\\siddharthtiwari1\\appdata\\local\\programs\\python\\python310\\lib\\site-packages (from typing-inspect<1,>=0.4.0->dataclasses-json<0.7,>=0.5.7->langchain-community) (1.0.0)\n",
      "Requirement already satisfied: boto3 in c:\\users\\siddharthtiwari1\\appdata\\local\\programs\\python\\python310\\lib\\site-packages (1.34.71)\n",
      "Requirement already satisfied: botocore<1.35.0,>=1.34.71 in c:\\users\\siddharthtiwari1\\appdata\\local\\programs\\python\\python310\\lib\\site-packages (from boto3) (1.34.71)\n",
      "Requirement already satisfied: jmespath<2.0.0,>=0.7.1 in c:\\users\\siddharthtiwari1\\appdata\\local\\programs\\python\\python310\\lib\\site-packages (from boto3) (1.0.1)\n",
      "Requirement already satisfied: s3transfer<0.11.0,>=0.10.0 in c:\\users\\siddharthtiwari1\\appdata\\local\\programs\\python\\python310\\lib\\site-packages (from boto3) (0.10.1)\n",
      "Requirement already satisfied: python-dateutil<3.0.0,>=2.1 in c:\\users\\siddharthtiwari1\\appdata\\local\\programs\\python\\python310\\lib\\site-packages (from botocore<1.35.0,>=1.34.71->boto3) (2.9.0.post0)\n",
      "Requirement already satisfied: urllib3!=2.2.0,<3,>=1.25.4 in c:\\users\\siddharthtiwari1\\appdata\\local\\programs\\python\\python310\\lib\\site-packages (from botocore<1.35.0,>=1.34.71->boto3) (2.2.1)\n",
      "Requirement already satisfied: six>=1.5 in c:\\users\\siddharthtiwari1\\appdata\\local\\programs\\python\\python310\\lib\\site-packages (from python-dateutil<3.0.0,>=2.1->botocore<1.35.0,>=1.34.71->boto3) (1.16.0)\n",
      "Requirement already satisfied: streamlit in c:\\users\\siddharthtiwari1\\appdata\\local\\programs\\python\\python310\\lib\\site-packages (1.32.2)\n",
      "Requirement already satisfied: altair<6,>=4.0 in c:\\users\\siddharthtiwari1\\appdata\\local\\programs\\python\\python310\\lib\\site-packages (from streamlit) (5.2.0)\n",
      "Requirement already satisfied: blinker<2,>=1.0.0 in c:\\users\\siddharthtiwari1\\appdata\\local\\programs\\python\\python310\\lib\\site-packages (from streamlit) (1.7.0)\n",
      "Requirement already satisfied: cachetools<6,>=4.0 in c:\\users\\siddharthtiwari1\\appdata\\local\\programs\\python\\python310\\lib\\site-packages (from streamlit) (5.3.3)\n",
      "Requirement already satisfied: click<9,>=7.0 in c:\\users\\siddharthtiwari1\\appdata\\local\\programs\\python\\python310\\lib\\site-packages (from streamlit) (8.1.7)\n",
      "Requirement already satisfied: numpy<2,>=1.19.3 in c:\\users\\siddharthtiwari1\\appdata\\local\\programs\\python\\python310\\lib\\site-packages (from streamlit) (1.26.4)\n",
      "Requirement already satisfied: packaging<24,>=16.8 in c:\\users\\siddharthtiwari1\\appdata\\local\\programs\\python\\python310\\lib\\site-packages (from streamlit) (23.2)\n",
      "Requirement already satisfied: pandas<3,>=1.3.0 in c:\\users\\siddharthtiwari1\\appdata\\local\\programs\\python\\python310\\lib\\site-packages (from streamlit) (2.2.1)\n",
      "Requirement already satisfied: pillow<11,>=7.1.0 in c:\\users\\siddharthtiwari1\\appdata\\local\\programs\\python\\python310\\lib\\site-packages (from streamlit) (10.2.0)\n",
      "Requirement already satisfied: protobuf<5,>=3.20 in c:\\users\\siddharthtiwari1\\appdata\\local\\programs\\python\\python310\\lib\\site-packages (from streamlit) (4.25.3)\n",
      "Requirement already satisfied: pyarrow>=7.0 in c:\\users\\siddharthtiwari1\\appdata\\local\\programs\\python\\python310\\lib\\site-packages (from streamlit) (15.0.2)\n",
      "Requirement already satisfied: requests<3,>=2.27 in c:\\users\\siddharthtiwari1\\appdata\\local\\programs\\python\\python310\\lib\\site-packages (from streamlit) (2.31.0)\n",
      "Requirement already satisfied: rich<14,>=10.14.0 in c:\\users\\siddharthtiwari1\\appdata\\local\\programs\\python\\python310\\lib\\site-packages (from streamlit) (13.7.1)\n",
      "Requirement already satisfied: tenacity<9,>=8.1.0 in c:\\users\\siddharthtiwari1\\appdata\\local\\programs\\python\\python310\\lib\\site-packages (from streamlit) (8.2.3)\n",
      "Requirement already satisfied: toml<2,>=0.10.1 in c:\\users\\siddharthtiwari1\\appdata\\local\\programs\\python\\python310\\lib\\site-packages (from streamlit) (0.10.2)\n",
      "Requirement already satisfied: typing-extensions<5,>=4.3.0 in c:\\users\\siddharthtiwari1\\appdata\\local\\programs\\python\\python310\\lib\\site-packages (from streamlit) (4.10.0)\n",
      "Requirement already satisfied: gitpython!=3.1.19,<4,>=3.0.7 in c:\\users\\siddharthtiwari1\\appdata\\local\\programs\\python\\python310\\lib\\site-packages (from streamlit) (3.1.42)\n",
      "Requirement already satisfied: pydeck<1,>=0.8.0b4 in c:\\users\\siddharthtiwari1\\appdata\\local\\programs\\python\\python310\\lib\\site-packages (from streamlit) (0.8.1b0)\n",
      "Requirement already satisfied: tornado<7,>=6.0.3 in c:\\users\\siddharthtiwari1\\appdata\\local\\programs\\python\\python310\\lib\\site-packages (from streamlit) (6.4)\n",
      "Requirement already satisfied: watchdog>=2.1.5 in c:\\users\\siddharthtiwari1\\appdata\\local\\programs\\python\\python310\\lib\\site-packages (from streamlit) (4.0.0)\n",
      "Requirement already satisfied: jinja2 in c:\\users\\siddharthtiwari1\\appdata\\local\\programs\\python\\python310\\lib\\site-packages (from altair<6,>=4.0->streamlit) (3.1.3)\n",
      "Requirement already satisfied: jsonschema>=3.0 in c:\\users\\siddharthtiwari1\\appdata\\local\\programs\\python\\python310\\lib\\site-packages (from altair<6,>=4.0->streamlit) (4.21.1)\n",
      "Requirement already satisfied: toolz in c:\\users\\siddharthtiwari1\\appdata\\local\\programs\\python\\python310\\lib\\site-packages (from altair<6,>=4.0->streamlit) (0.12.1)\n",
      "Requirement already satisfied: colorama in c:\\users\\siddharthtiwari1\\appdata\\local\\programs\\python\\python310\\lib\\site-packages (from click<9,>=7.0->streamlit) (0.4.4)\n",
      "Requirement already satisfied: gitdb<5,>=4.0.1 in c:\\users\\siddharthtiwari1\\appdata\\local\\programs\\python\\python310\\lib\\site-packages (from gitpython!=3.1.19,<4,>=3.0.7->streamlit) (4.0.11)\n",
      "Requirement already satisfied: python-dateutil>=2.8.2 in c:\\users\\siddharthtiwari1\\appdata\\local\\programs\\python\\python310\\lib\\site-packages (from pandas<3,>=1.3.0->streamlit) (2.9.0.post0)\n",
      "Requirement already satisfied: pytz>=2020.1 in c:\\users\\siddharthtiwari1\\appdata\\local\\programs\\python\\python310\\lib\\site-packages (from pandas<3,>=1.3.0->streamlit) (2024.1)\n",
      "Requirement already satisfied: tzdata>=2022.7 in c:\\users\\siddharthtiwari1\\appdata\\local\\programs\\python\\python310\\lib\\site-packages (from pandas<3,>=1.3.0->streamlit) (2024.1)\n",
      "Requirement already satisfied: charset-normalizer<4,>=2 in c:\\users\\siddharthtiwari1\\appdata\\local\\programs\\python\\python310\\lib\\site-packages (from requests<3,>=2.27->streamlit) (3.3.2)\n",
      "Requirement already satisfied: idna<4,>=2.5 in c:\\users\\siddharthtiwari1\\appdata\\local\\programs\\python\\python310\\lib\\site-packages (from requests<3,>=2.27->streamlit) (3.6)\n",
      "Requirement already satisfied: urllib3<3,>=1.21.1 in c:\\users\\siddharthtiwari1\\appdata\\local\\programs\\python\\python310\\lib\\site-packages (from requests<3,>=2.27->streamlit) (2.2.1)\n",
      "Requirement already satisfied: certifi>=2017.4.17 in c:\\users\\siddharthtiwari1\\appdata\\local\\programs\\python\\python310\\lib\\site-packages (from requests<3,>=2.27->streamlit) (2024.2.2)\n",
      "Requirement already satisfied: markdown-it-py>=2.2.0 in c:\\users\\siddharthtiwari1\\appdata\\local\\programs\\python\\python310\\lib\\site-packages (from rich<14,>=10.14.0->streamlit) (3.0.0)\n",
      "Requirement already satisfied: pygments<3.0.0,>=2.13.0 in c:\\users\\siddharthtiwari1\\appdata\\local\\programs\\python\\python310\\lib\\site-packages (from rich<14,>=10.14.0->streamlit) (2.17.2)\n",
      "Requirement already satisfied: smmap<6,>=3.0.1 in c:\\users\\siddharthtiwari1\\appdata\\local\\programs\\python\\python310\\lib\\site-packages (from gitdb<5,>=4.0.1->gitpython!=3.1.19,<4,>=3.0.7->streamlit) (5.0.1)\n",
      "Requirement already satisfied: MarkupSafe>=2.0 in c:\\users\\siddharthtiwari1\\appdata\\local\\programs\\python\\python310\\lib\\site-packages (from jinja2->altair<6,>=4.0->streamlit) (2.1.5)\n",
      "Requirement already satisfied: attrs>=22.2.0 in c:\\users\\siddharthtiwari1\\appdata\\local\\programs\\python\\python310\\lib\\site-packages (from jsonschema>=3.0->altair<6,>=4.0->streamlit) (23.2.0)\n",
      "Requirement already satisfied: jsonschema-specifications>=2023.03.6 in c:\\users\\siddharthtiwari1\\appdata\\local\\programs\\python\\python310\\lib\\site-packages (from jsonschema>=3.0->altair<6,>=4.0->streamlit) (2023.12.1)\n",
      "Requirement already satisfied: referencing>=0.28.4 in c:\\users\\siddharthtiwari1\\appdata\\local\\programs\\python\\python310\\lib\\site-packages (from jsonschema>=3.0->altair<6,>=4.0->streamlit) (0.34.0)\n",
      "Requirement already satisfied: rpds-py>=0.7.1 in c:\\users\\siddharthtiwari1\\appdata\\local\\programs\\python\\python310\\lib\\site-packages (from jsonschema>=3.0->altair<6,>=4.0->streamlit) (0.18.0)\n",
      "Requirement already satisfied: mdurl~=0.1 in c:\\users\\siddharthtiwari1\\appdata\\local\\programs\\python\\python310\\lib\\site-packages (from markdown-it-py>=2.2.0->rich<14,>=10.14.0->streamlit) (0.1.2)\n",
      "Requirement already satisfied: six>=1.5 in c:\\users\\siddharthtiwari1\\appdata\\local\\programs\\python\\python310\\lib\\site-packages (from python-dateutil>=2.8.2->pandas<3,>=1.3.0->streamlit) (1.16.0)\n",
      "Requirement already satisfied: ipywidgets in c:\\users\\siddharthtiwari1\\appdata\\local\\programs\\python\\python310\\lib\\site-packages (8.1.2)\n",
      "Requirement already satisfied: comm>=0.1.3 in c:\\users\\siddharthtiwari1\\appdata\\local\\programs\\python\\python310\\lib\\site-packages (from ipywidgets) (0.2.2)\n",
      "Requirement already satisfied: ipython>=6.1.0 in c:\\users\\siddharthtiwari1\\appdata\\local\\programs\\python\\python310\\lib\\site-packages (from ipywidgets) (8.22.2)\n",
      "Requirement already satisfied: traitlets>=4.3.1 in c:\\users\\siddharthtiwari1\\appdata\\local\\programs\\python\\python310\\lib\\site-packages (from ipywidgets) (5.14.2)\n",
      "Requirement already satisfied: widgetsnbextension~=4.0.10 in c:\\users\\siddharthtiwari1\\appdata\\local\\programs\\python\\python310\\lib\\site-packages (from ipywidgets) (4.0.10)\n",
      "Requirement already satisfied: jupyterlab-widgets~=3.0.10 in c:\\users\\siddharthtiwari1\\appdata\\local\\programs\\python\\python310\\lib\\site-packages (from ipywidgets) (3.0.10)\n",
      "Requirement already satisfied: decorator in c:\\users\\siddharthtiwari1\\appdata\\local\\programs\\python\\python310\\lib\\site-packages (from ipython>=6.1.0->ipywidgets) (5.1.1)\n",
      "Requirement already satisfied: jedi>=0.16 in c:\\users\\siddharthtiwari1\\appdata\\local\\programs\\python\\python310\\lib\\site-packages (from ipython>=6.1.0->ipywidgets) (0.19.1)\n",
      "Requirement already satisfied: matplotlib-inline in c:\\users\\siddharthtiwari1\\appdata\\local\\programs\\python\\python310\\lib\\site-packages (from ipython>=6.1.0->ipywidgets) (0.1.6)\n",
      "Requirement already satisfied: prompt-toolkit<3.1.0,>=3.0.41 in c:\\users\\siddharthtiwari1\\appdata\\local\\programs\\python\\python310\\lib\\site-packages (from ipython>=6.1.0->ipywidgets) (3.0.43)\n",
      "Requirement already satisfied: pygments>=2.4.0 in c:\\users\\siddharthtiwari1\\appdata\\local\\programs\\python\\python310\\lib\\site-packages (from ipython>=6.1.0->ipywidgets) (2.17.2)\n",
      "Requirement already satisfied: stack-data in c:\\users\\siddharthtiwari1\\appdata\\local\\programs\\python\\python310\\lib\\site-packages (from ipython>=6.1.0->ipywidgets) (0.6.3)\n",
      "Requirement already satisfied: exceptiongroup in c:\\users\\siddharthtiwari1\\appdata\\local\\programs\\python\\python310\\lib\\site-packages (from ipython>=6.1.0->ipywidgets) (1.2.0)\n",
      "Requirement already satisfied: colorama in c:\\users\\siddharthtiwari1\\appdata\\local\\programs\\python\\python310\\lib\\site-packages (from ipython>=6.1.0->ipywidgets) (0.4.4)\n",
      "Requirement already satisfied: parso<0.9.0,>=0.8.3 in c:\\users\\siddharthtiwari1\\appdata\\local\\programs\\python\\python310\\lib\\site-packages (from jedi>=0.16->ipython>=6.1.0->ipywidgets) (0.8.3)\n",
      "Requirement already satisfied: wcwidth in c:\\users\\siddharthtiwari1\\appdata\\local\\programs\\python\\python310\\lib\\site-packages (from prompt-toolkit<3.1.0,>=3.0.41->ipython>=6.1.0->ipywidgets) (0.2.13)\n",
      "Requirement already satisfied: executing>=1.2.0 in c:\\users\\siddharthtiwari1\\appdata\\local\\programs\\python\\python310\\lib\\site-packages (from stack-data->ipython>=6.1.0->ipywidgets) (2.0.1)\n",
      "Requirement already satisfied: asttokens>=2.1.0 in c:\\users\\siddharthtiwari1\\appdata\\local\\programs\\python\\python310\\lib\\site-packages (from stack-data->ipython>=6.1.0->ipywidgets) (2.4.1)\n",
      "Requirement already satisfied: pure-eval in c:\\users\\siddharthtiwari1\\appdata\\local\\programs\\python\\python310\\lib\\site-packages (from stack-data->ipython>=6.1.0->ipywidgets) (0.2.2)\n",
      "Requirement already satisfied: six>=1.12.0 in c:\\users\\siddharthtiwari1\\appdata\\local\\programs\\python\\python310\\lib\\site-packages (from asttokens>=2.1.0->stack-data->ipython>=6.1.0->ipywidgets) (1.16.0)\n"
     ]
    },
    {
     "name": "stderr",
     "output_type": "stream",
     "text": [
      "ERROR: Could not find a version that satisfies the requirement PyPDFLoader (from versions: none)\n",
      "ERROR: No matching distribution found for PyPDFLoader\n"
     ]
    },
    {
     "name": "stdout",
     "output_type": "stream",
     "text": [
      "Requirement already satisfied: Chromadb in c:\\users\\siddharthtiwari1\\appdata\\local\\programs\\python\\python310\\lib\\site-packages (0.4.24)\n",
      "Requirement already satisfied: build>=1.0.3 in c:\\users\\siddharthtiwari1\\appdata\\local\\programs\\python\\python310\\lib\\site-packages (from Chromadb) (1.1.1)\n",
      "Requirement already satisfied: requests>=2.28 in c:\\users\\siddharthtiwari1\\appdata\\local\\programs\\python\\python310\\lib\\site-packages (from Chromadb) (2.31.0)\n",
      "Requirement already satisfied: pydantic>=1.9 in c:\\users\\siddharthtiwari1\\appdata\\local\\programs\\python\\python310\\lib\\site-packages (from Chromadb) (1.10.14)\n",
      "Requirement already satisfied: chroma-hnswlib==0.7.3 in c:\\users\\siddharthtiwari1\\appdata\\local\\programs\\python\\python310\\lib\\site-packages (from Chromadb) (0.7.3)\n",
      "Requirement already satisfied: fastapi>=0.95.2 in c:\\users\\siddharthtiwari1\\appdata\\local\\programs\\python\\python310\\lib\\site-packages (from Chromadb) (0.110.0)\n",
      "Requirement already satisfied: uvicorn>=0.18.3 in c:\\users\\siddharthtiwari1\\appdata\\local\\programs\\python\\python310\\lib\\site-packages (from uvicorn[standard]>=0.18.3->Chromadb) (0.29.0)\n",
      "Requirement already satisfied: numpy>=1.22.5 in c:\\users\\siddharthtiwari1\\appdata\\local\\programs\\python\\python310\\lib\\site-packages (from Chromadb) (1.26.4)\n",
      "Requirement already satisfied: posthog>=2.4.0 in c:\\users\\siddharthtiwari1\\appdata\\local\\programs\\python\\python310\\lib\\site-packages (from Chromadb) (3.5.0)\n",
      "Requirement already satisfied: typing-extensions>=4.5.0 in c:\\users\\siddharthtiwari1\\appdata\\local\\programs\\python\\python310\\lib\\site-packages (from Chromadb) (4.10.0)\n",
      "Requirement already satisfied: pulsar-client>=3.1.0 in c:\\users\\siddharthtiwari1\\appdata\\local\\programs\\python\\python310\\lib\\site-packages (from Chromadb) (3.4.0)\n",
      "Requirement already satisfied: onnxruntime>=1.14.1 in c:\\users\\siddharthtiwari1\\appdata\\local\\programs\\python\\python310\\lib\\site-packages (from Chromadb) (1.17.1)\n",
      "Requirement already satisfied: opentelemetry-api>=1.2.0 in c:\\users\\siddharthtiwari1\\appdata\\local\\programs\\python\\python310\\lib\\site-packages (from Chromadb) (1.23.0)\n",
      "Requirement already satisfied: opentelemetry-exporter-otlp-proto-grpc>=1.2.0 in c:\\users\\siddharthtiwari1\\appdata\\local\\programs\\python\\python310\\lib\\site-packages (from Chromadb) (1.23.0)\n",
      "Requirement already satisfied: opentelemetry-instrumentation-fastapi>=0.41b0 in c:\\users\\siddharthtiwari1\\appdata\\local\\programs\\python\\python310\\lib\\site-packages (from Chromadb) (0.44b0)\n",
      "Requirement already satisfied: opentelemetry-sdk>=1.2.0 in c:\\users\\siddharthtiwari1\\appdata\\local\\programs\\python\\python310\\lib\\site-packages (from Chromadb) (1.23.0)\n",
      "Requirement already satisfied: tokenizers>=0.13.2 in c:\\users\\siddharthtiwari1\\appdata\\local\\programs\\python\\python310\\lib\\site-packages (from Chromadb) (0.13.3)\n",
      "Requirement already satisfied: pypika>=0.48.9 in c:\\users\\siddharthtiwari1\\appdata\\local\\programs\\python\\python310\\lib\\site-packages (from Chromadb) (0.48.9)\n",
      "Requirement already satisfied: tqdm>=4.65.0 in c:\\users\\siddharthtiwari1\\appdata\\local\\programs\\python\\python310\\lib\\site-packages (from Chromadb) (4.66.2)\n",
      "Requirement already satisfied: overrides>=7.3.1 in c:\\users\\siddharthtiwari1\\appdata\\local\\programs\\python\\python310\\lib\\site-packages (from Chromadb) (7.7.0)\n",
      "Requirement already satisfied: importlib-resources in c:\\users\\siddharthtiwari1\\appdata\\local\\programs\\python\\python310\\lib\\site-packages (from Chromadb) (6.4.0)\n",
      "Requirement already satisfied: grpcio>=1.58.0 in c:\\users\\siddharthtiwari1\\appdata\\local\\programs\\python\\python310\\lib\\site-packages (from Chromadb) (1.62.1)\n",
      "Requirement already satisfied: bcrypt>=4.0.1 in c:\\users\\siddharthtiwari1\\appdata\\local\\programs\\python\\python310\\lib\\site-packages (from Chromadb) (4.1.2)\n",
      "Requirement already satisfied: typer>=0.9.0 in c:\\users\\siddharthtiwari1\\appdata\\local\\programs\\python\\python310\\lib\\site-packages (from Chromadb) (0.9.0)\n",
      "Requirement already satisfied: kubernetes>=28.1.0 in c:\\users\\siddharthtiwari1\\appdata\\local\\programs\\python\\python310\\lib\\site-packages (from Chromadb) (29.0.0)\n",
      "Requirement already satisfied: tenacity>=8.2.3 in c:\\users\\siddharthtiwari1\\appdata\\local\\programs\\python\\python310\\lib\\site-packages (from Chromadb) (8.2.3)\n",
      "Requirement already satisfied: PyYAML>=6.0.0 in c:\\users\\siddharthtiwari1\\appdata\\local\\programs\\python\\python310\\lib\\site-packages (from Chromadb) (6.0.1)\n",
      "Requirement already satisfied: mmh3>=4.0.1 in c:\\users\\siddharthtiwari1\\appdata\\local\\programs\\python\\python310\\lib\\site-packages (from Chromadb) (4.1.0)\n",
      "Requirement already satisfied: orjson>=3.9.12 in c:\\users\\siddharthtiwari1\\appdata\\local\\programs\\python\\python310\\lib\\site-packages (from Chromadb) (3.9.15)\n",
      "Requirement already satisfied: packaging>=19.0 in c:\\users\\siddharthtiwari1\\appdata\\local\\programs\\python\\python310\\lib\\site-packages (from build>=1.0.3->Chromadb) (23.2)\n",
      "Requirement already satisfied: pyproject_hooks in c:\\users\\siddharthtiwari1\\appdata\\local\\programs\\python\\python310\\lib\\site-packages (from build>=1.0.3->Chromadb) (1.0.0)\n",
      "Requirement already satisfied: colorama in c:\\users\\siddharthtiwari1\\appdata\\local\\programs\\python\\python310\\lib\\site-packages (from build>=1.0.3->Chromadb) (0.4.4)\n",
      "Requirement already satisfied: tomli>=1.1.0 in c:\\users\\siddharthtiwari1\\appdata\\local\\programs\\python\\python310\\lib\\site-packages (from build>=1.0.3->Chromadb) (2.0.1)\n",
      "Requirement already satisfied: starlette<0.37.0,>=0.36.3 in c:\\users\\siddharthtiwari1\\appdata\\local\\programs\\python\\python310\\lib\\site-packages (from fastapi>=0.95.2->Chromadb) (0.36.3)\n",
      "Requirement already satisfied: certifi>=14.05.14 in c:\\users\\siddharthtiwari1\\appdata\\local\\programs\\python\\python310\\lib\\site-packages (from kubernetes>=28.1.0->Chromadb) (2024.2.2)\n",
      "Requirement already satisfied: six>=1.9.0 in c:\\users\\siddharthtiwari1\\appdata\\local\\programs\\python\\python310\\lib\\site-packages (from kubernetes>=28.1.0->Chromadb) (1.16.0)\n",
      "Requirement already satisfied: python-dateutil>=2.5.3 in c:\\users\\siddharthtiwari1\\appdata\\local\\programs\\python\\python310\\lib\\site-packages (from kubernetes>=28.1.0->Chromadb) (2.9.0.post0)\n",
      "Requirement already satisfied: google-auth>=1.0.1 in c:\\users\\siddharthtiwari1\\appdata\\local\\programs\\python\\python310\\lib\\site-packages (from kubernetes>=28.1.0->Chromadb) (2.28.1)\n",
      "Requirement already satisfied: websocket-client!=0.40.0,!=0.41.*,!=0.42.*,>=0.32.0 in c:\\users\\siddharthtiwari1\\appdata\\local\\programs\\python\\python310\\lib\\site-packages (from kubernetes>=28.1.0->Chromadb) (1.7.0)\n",
      "Requirement already satisfied: requests-oauthlib in c:\\users\\siddharthtiwari1\\appdata\\local\\programs\\python\\python310\\lib\\site-packages (from kubernetes>=28.1.0->Chromadb) (1.3.1)\n",
      "Requirement already satisfied: oauthlib>=3.2.2 in c:\\users\\siddharthtiwari1\\appdata\\local\\programs\\python\\python310\\lib\\site-packages (from kubernetes>=28.1.0->Chromadb) (3.2.2)\n",
      "Requirement already satisfied: urllib3>=1.24.2 in c:\\users\\siddharthtiwari1\\appdata\\local\\programs\\python\\python310\\lib\\site-packages (from kubernetes>=28.1.0->Chromadb) (2.2.1)\n",
      "Requirement already satisfied: coloredlogs in c:\\users\\siddharthtiwari1\\appdata\\local\\programs\\python\\python310\\lib\\site-packages (from onnxruntime>=1.14.1->Chromadb) (15.0.1)\n",
      "Requirement already satisfied: flatbuffers in c:\\users\\siddharthtiwari1\\appdata\\local\\programs\\python\\python310\\lib\\site-packages (from onnxruntime>=1.14.1->Chromadb) (24.3.7)\n",
      "Requirement already satisfied: protobuf in c:\\users\\siddharthtiwari1\\appdata\\local\\programs\\python\\python310\\lib\\site-packages (from onnxruntime>=1.14.1->Chromadb) (4.25.3)\n",
      "Requirement already satisfied: sympy in c:\\users\\siddharthtiwari1\\appdata\\local\\programs\\python\\python310\\lib\\site-packages (from onnxruntime>=1.14.1->Chromadb) (1.12)\n",
      "Requirement already satisfied: deprecated>=1.2.6 in c:\\users\\siddharthtiwari1\\appdata\\local\\programs\\python\\python310\\lib\\site-packages (from opentelemetry-api>=1.2.0->Chromadb) (1.2.14)\n",
      "Requirement already satisfied: importlib-metadata<7.0,>=6.0 in c:\\users\\siddharthtiwari1\\appdata\\local\\programs\\python\\python310\\lib\\site-packages (from opentelemetry-api>=1.2.0->Chromadb) (6.11.0)\n",
      "Requirement already satisfied: googleapis-common-protos~=1.52 in c:\\users\\siddharthtiwari1\\appdata\\local\\programs\\python\\python310\\lib\\site-packages (from opentelemetry-exporter-otlp-proto-grpc>=1.2.0->Chromadb) (1.63.0)\n",
      "Requirement already satisfied: opentelemetry-exporter-otlp-proto-common==1.23.0 in c:\\users\\siddharthtiwari1\\appdata\\local\\programs\\python\\python310\\lib\\site-packages (from opentelemetry-exporter-otlp-proto-grpc>=1.2.0->Chromadb) (1.23.0)\n",
      "Requirement already satisfied: opentelemetry-proto==1.23.0 in c:\\users\\siddharthtiwari1\\appdata\\local\\programs\\python\\python310\\lib\\site-packages (from opentelemetry-exporter-otlp-proto-grpc>=1.2.0->Chromadb) (1.23.0)\n",
      "Requirement already satisfied: opentelemetry-instrumentation-asgi==0.44b0 in c:\\users\\siddharthtiwari1\\appdata\\local\\programs\\python\\python310\\lib\\site-packages (from opentelemetry-instrumentation-fastapi>=0.41b0->Chromadb) (0.44b0)\n",
      "Requirement already satisfied: opentelemetry-instrumentation==0.44b0 in c:\\users\\siddharthtiwari1\\appdata\\local\\programs\\python\\python310\\lib\\site-packages (from opentelemetry-instrumentation-fastapi>=0.41b0->Chromadb) (0.44b0)\n",
      "Requirement already satisfied: opentelemetry-semantic-conventions==0.44b0 in c:\\users\\siddharthtiwari1\\appdata\\local\\programs\\python\\python310\\lib\\site-packages (from opentelemetry-instrumentation-fastapi>=0.41b0->Chromadb) (0.44b0)\n",
      "Requirement already satisfied: opentelemetry-util-http==0.44b0 in c:\\users\\siddharthtiwari1\\appdata\\local\\programs\\python\\python310\\lib\\site-packages (from opentelemetry-instrumentation-fastapi>=0.41b0->Chromadb) (0.44b0)\n",
      "Requirement already satisfied: setuptools>=16.0 in c:\\users\\siddharthtiwari1\\appdata\\local\\programs\\python\\python310\\lib\\site-packages (from opentelemetry-instrumentation==0.44b0->opentelemetry-instrumentation-fastapi>=0.41b0->Chromadb) (69.2.0)\n",
      "Requirement already satisfied: wrapt<2.0.0,>=1.0.0 in c:\\users\\siddharthtiwari1\\appdata\\local\\programs\\python\\python310\\lib\\site-packages (from opentelemetry-instrumentation==0.44b0->opentelemetry-instrumentation-fastapi>=0.41b0->Chromadb) (1.16.0)\n",
      "Requirement already satisfied: asgiref~=3.0 in c:\\users\\siddharthtiwari1\\appdata\\local\\programs\\python\\python310\\lib\\site-packages (from opentelemetry-instrumentation-asgi==0.44b0->opentelemetry-instrumentation-fastapi>=0.41b0->Chromadb) (3.8.1)\n",
      "Requirement already satisfied: monotonic>=1.5 in c:\\users\\siddharthtiwari1\\appdata\\local\\programs\\python\\python310\\lib\\site-packages (from posthog>=2.4.0->Chromadb) (1.6)\n",
      "Requirement already satisfied: backoff>=1.10.0 in c:\\users\\siddharthtiwari1\\appdata\\local\\programs\\python\\python310\\lib\\site-packages (from posthog>=2.4.0->Chromadb) (2.2.1)\n",
      "Requirement already satisfied: charset-normalizer<4,>=2 in c:\\users\\siddharthtiwari1\\appdata\\local\\programs\\python\\python310\\lib\\site-packages (from requests>=2.28->Chromadb) (3.3.2)\n",
      "Requirement already satisfied: idna<4,>=2.5 in c:\\users\\siddharthtiwari1\\appdata\\local\\programs\\python\\python310\\lib\\site-packages (from requests>=2.28->Chromadb) (3.6)\n",
      "Requirement already satisfied: click<9.0.0,>=7.1.1 in c:\\users\\siddharthtiwari1\\appdata\\local\\programs\\python\\python310\\lib\\site-packages (from typer>=0.9.0->Chromadb) (8.1.7)\n",
      "Requirement already satisfied: h11>=0.8 in c:\\users\\siddharthtiwari1\\appdata\\local\\programs\\python\\python310\\lib\\site-packages (from uvicorn>=0.18.3->uvicorn[standard]>=0.18.3->Chromadb) (0.14.0)\n",
      "Requirement already satisfied: httptools>=0.5.0 in c:\\users\\siddharthtiwari1\\appdata\\local\\programs\\python\\python310\\lib\\site-packages (from uvicorn[standard]>=0.18.3->Chromadb) (0.6.1)\n",
      "Requirement already satisfied: python-dotenv>=0.13 in c:\\users\\siddharthtiwari1\\appdata\\local\\programs\\python\\python310\\lib\\site-packages (from uvicorn[standard]>=0.18.3->Chromadb) (1.0.1)\n",
      "Requirement already satisfied: watchfiles>=0.13 in c:\\users\\siddharthtiwari1\\appdata\\local\\programs\\python\\python310\\lib\\site-packages (from uvicorn[standard]>=0.18.3->Chromadb) (0.21.0)\n",
      "Requirement already satisfied: websockets>=10.4 in c:\\users\\siddharthtiwari1\\appdata\\local\\programs\\python\\python310\\lib\\site-packages (from uvicorn[standard]>=0.18.3->Chromadb) (12.0)\n",
      "Requirement already satisfied: cachetools<6.0,>=2.0.0 in c:\\users\\siddharthtiwari1\\appdata\\local\\programs\\python\\python310\\lib\\site-packages (from google-auth>=1.0.1->kubernetes>=28.1.0->Chromadb) (5.3.3)\n",
      "Requirement already satisfied: pyasn1-modules>=0.2.1 in c:\\users\\siddharthtiwari1\\appdata\\local\\programs\\python\\python310\\lib\\site-packages (from google-auth>=1.0.1->kubernetes>=28.1.0->Chromadb) (0.3.0)\n",
      "Requirement already satisfied: rsa<5,>=3.1.4 in c:\\users\\siddharthtiwari1\\appdata\\local\\programs\\python\\python310\\lib\\site-packages (from google-auth>=1.0.1->kubernetes>=28.1.0->Chromadb) (4.7.2)\n",
      "Requirement already satisfied: zipp>=0.5 in c:\\users\\siddharthtiwari1\\appdata\\local\\programs\\python\\python310\\lib\\site-packages (from importlib-metadata<7.0,>=6.0->opentelemetry-api>=1.2.0->Chromadb) (3.18.1)\n",
      "Requirement already satisfied: anyio<5,>=3.4.0 in c:\\users\\siddharthtiwari1\\appdata\\local\\programs\\python\\python310\\lib\\site-packages (from starlette<0.37.0,>=0.36.3->fastapi>=0.95.2->Chromadb) (4.3.0)\n",
      "Requirement already satisfied: humanfriendly>=9.1 in c:\\users\\siddharthtiwari1\\appdata\\local\\programs\\python\\python310\\lib\\site-packages (from coloredlogs->onnxruntime>=1.14.1->Chromadb) (10.0)\n",
      "Requirement already satisfied: mpmath>=0.19 in c:\\users\\siddharthtiwari1\\appdata\\local\\programs\\python\\python310\\lib\\site-packages (from sympy->onnxruntime>=1.14.1->Chromadb) (1.3.0)\n",
      "Requirement already satisfied: sniffio>=1.1 in c:\\users\\siddharthtiwari1\\appdata\\local\\programs\\python\\python310\\lib\\site-packages (from anyio<5,>=3.4.0->starlette<0.37.0,>=0.36.3->fastapi>=0.95.2->Chromadb) (1.3.1)\n",
      "Requirement already satisfied: exceptiongroup>=1.0.2 in c:\\users\\siddharthtiwari1\\appdata\\local\\programs\\python\\python310\\lib\\site-packages (from anyio<5,>=3.4.0->starlette<0.37.0,>=0.36.3->fastapi>=0.95.2->Chromadb) (1.2.0)\n",
      "Requirement already satisfied: pyreadline3 in c:\\users\\siddharthtiwari1\\appdata\\local\\programs\\python\\python310\\lib\\site-packages (from humanfriendly>=9.1->coloredlogs->onnxruntime>=1.14.1->Chromadb) (3.4.1)\n",
      "Requirement already satisfied: pyasn1<0.6.0,>=0.4.6 in c:\\users\\siddharthtiwari1\\appdata\\local\\programs\\python\\python310\\lib\\site-packages (from pyasn1-modules>=0.2.1->google-auth>=1.0.1->kubernetes>=28.1.0->Chromadb) (0.5.1)\n",
      "Requirement already satisfied: pypdf in c:\\users\\siddharthtiwari1\\appdata\\local\\programs\\python\\python310\\lib\\site-packages (4.1.0)\n"
     ]
    }
   ],
   "source": [
    "!pip install langchain \n",
    "!pip install langchain-community\n",
    "!pip install boto3\n",
    "!pip install streamlit\n",
    "!pip install ipywidgets\n",
    "!pip install PyPDFLoader\n",
    "!pip install Chromadb\n",
    "!pip install pypdf"
   ]
  },
  {
   "cell_type": "code",
   "execution_count": 2,
   "id": "4fa270ac-cfa3-4bdf-90f9-5537763f18a2",
   "metadata": {},
   "outputs": [],
   "source": [
    "import os\n",
    "os.environ[\"AWS_PROFILE\"] = \"Siddharth\""
   ]
  },
  {
   "cell_type": "code",
   "execution_count": 2,
   "id": "f6aab11f-0c19-4126-86cd-8a9aaf9c5c14",
   "metadata": {},
   "outputs": [
    {
     "name": "stdout",
     "output_type": "stream",
     "text": [
      "Requirement already satisfied: faiss-cpu in c:\\users\\siddharthtiwari1\\appdata\\local\\programs\\python\\python310\\lib\\site-packages (1.8.0)\n",
      "Requirement already satisfied: numpy in c:\\users\\siddharthtiwari1\\appdata\\local\\programs\\python\\python310\\lib\\site-packages (from faiss-cpu) (1.26.4)\n"
     ]
    }
   ],
   "source": [
    "!pip install faiss-cpu"
   ]
  },
  {
   "cell_type": "code",
   "execution_count": 6,
   "id": "e3ace0b5-3c84-432a-a994-3eb23890b280",
   "metadata": {},
   "outputs": [
    {
     "name": "stdout",
     "output_type": "stream",
     "text": [
      "Requirement already satisfied: fastapi in c:\\users\\siddharthtiwari1\\appdata\\local\\programs\\python\\python310\\lib\\site-packages (0.110.0)\n",
      "Requirement already satisfied: pydantic!=1.8,!=1.8.1,!=2.0.0,!=2.0.1,!=2.1.0,<3.0.0,>=1.7.4 in c:\\users\\siddharthtiwari1\\appdata\\local\\programs\\python\\python310\\lib\\site-packages (from fastapi) (1.10.14)\n",
      "Requirement already satisfied: starlette<0.37.0,>=0.36.3 in c:\\users\\siddharthtiwari1\\appdata\\local\\programs\\python\\python310\\lib\\site-packages (from fastapi) (0.36.3)\n",
      "Requirement already satisfied: typing-extensions>=4.8.0 in c:\\users\\siddharthtiwari1\\appdata\\local\\programs\\python\\python310\\lib\\site-packages (from fastapi) (4.10.0)\n",
      "Requirement already satisfied: anyio<5,>=3.4.0 in c:\\users\\siddharthtiwari1\\appdata\\local\\programs\\python\\python310\\lib\\site-packages (from starlette<0.37.0,>=0.36.3->fastapi) (4.3.0)\n",
      "Requirement already satisfied: idna>=2.8 in c:\\users\\siddharthtiwari1\\appdata\\local\\programs\\python\\python310\\lib\\site-packages (from anyio<5,>=3.4.0->starlette<0.37.0,>=0.36.3->fastapi) (3.6)\n",
      "Requirement already satisfied: sniffio>=1.1 in c:\\users\\siddharthtiwari1\\appdata\\local\\programs\\python\\python310\\lib\\site-packages (from anyio<5,>=3.4.0->starlette<0.37.0,>=0.36.3->fastapi) (1.3.1)\n",
      "Requirement already satisfied: exceptiongroup>=1.0.2 in c:\\users\\siddharthtiwari1\\appdata\\local\\programs\\python\\python310\\lib\\site-packages (from anyio<5,>=3.4.0->starlette<0.37.0,>=0.36.3->fastapi) (1.2.0)\n"
     ]
    }
   ],
   "source": [
    "!pip install fastapi"
   ]
  },
  {
   "cell_type": "code",
   "execution_count": 1,
   "id": "49c5a35f-2704-4c07-b847-26b68ec2e78c",
   "metadata": {},
   "outputs": [
    {
     "ename": "KeyError",
     "evalue": "'AWS_PROFILE'",
     "output_type": "error",
     "traceback": [
      "\u001b[1;31m---------------------------------------------------------------------------\u001b[0m",
      "\u001b[1;31mKeyError\u001b[0m                                  Traceback (most recent call last)",
      "Cell \u001b[1;32mIn[1], line 20\u001b[0m\n\u001b[0;32m     16\u001b[0m \u001b[38;5;28;01mfrom\u001b[39;00m \u001b[38;5;21;01mpymongo\u001b[39;00m \u001b[38;5;28;01mimport\u001b[39;00m MongoClient\n\u001b[0;32m     17\u001b[0m \u001b[38;5;66;03m# from keras.preprocessing.sequence import Sequence\u001b[39;00m\n\u001b[0;32m     18\u001b[0m \n\u001b[0;32m     19\u001b[0m \u001b[38;5;66;03m#Integrate bedrock api\u001b[39;00m\n\u001b[1;32m---> 20\u001b[0m profile \u001b[38;5;241m=\u001b[39m \u001b[43mos\u001b[49m\u001b[38;5;241;43m.\u001b[39;49m\u001b[43menviron\u001b[49m\u001b[43m[\u001b[49m\u001b[38;5;124;43m\"\u001b[39;49m\u001b[38;5;124;43mAWS_PROFILE\u001b[39;49m\u001b[38;5;124;43m\"\u001b[39;49m\u001b[43m]\u001b[49m\n\u001b[0;32m     22\u001b[0m \u001b[38;5;66;03m#Create a session using the specified profile\u001b[39;00m\n\u001b[0;32m     23\u001b[0m session \u001b[38;5;241m=\u001b[39m boto3\u001b[38;5;241m.\u001b[39mSession(profile_name\u001b[38;5;241m=\u001b[39mprofile)\n",
      "File \u001b[1;32m~\\AppData\\Local\\Programs\\Python\\Python310\\lib\\os.py:679\u001b[0m, in \u001b[0;36m_Environ.__getitem__\u001b[1;34m(self, key)\u001b[0m\n\u001b[0;32m    676\u001b[0m     value \u001b[38;5;241m=\u001b[39m \u001b[38;5;28mself\u001b[39m\u001b[38;5;241m.\u001b[39m_data[\u001b[38;5;28mself\u001b[39m\u001b[38;5;241m.\u001b[39mencodekey(key)]\n\u001b[0;32m    677\u001b[0m \u001b[38;5;28;01mexcept\u001b[39;00m \u001b[38;5;167;01mKeyError\u001b[39;00m:\n\u001b[0;32m    678\u001b[0m     \u001b[38;5;66;03m# raise KeyError with the original key value\u001b[39;00m\n\u001b[1;32m--> 679\u001b[0m     \u001b[38;5;28;01mraise\u001b[39;00m \u001b[38;5;167;01mKeyError\u001b[39;00m(key) \u001b[38;5;28;01mfrom\u001b[39;00m \u001b[38;5;28;01mNone\u001b[39;00m\n\u001b[0;32m    680\u001b[0m \u001b[38;5;28;01mreturn\u001b[39;00m \u001b[38;5;28mself\u001b[39m\u001b[38;5;241m.\u001b[39mdecodevalue(value)\n",
      "\u001b[1;31mKeyError\u001b[0m: 'AWS_PROFILE'"
     ]
    }
   ],
   "source": [
    "import boto3\n",
    "import os\n",
    "from langchain.llms.bedrock import Bedrock\n",
    "from langchain.memory import ConversationBufferMemory\n",
    "from langchain.prompts import PromptTemplate\n",
    "from langchain.text_splitter import RecursiveCharacterTextSplitter \n",
    "from langchain_community.embeddings import BedrockEmbeddings\n",
    "from langchain.chains import ConversationalRetrievalChain\n",
    "from langchain_community.vectorstores import Chroma\n",
    "import streamlit as st\n",
    "from langchain_community.document_loaders import PyPDFLoader\n",
    "from langchain.memory import MongoDBChatMessageHistory\n",
    "from fastapi import FastAPI\n",
    "from langchain.chains import ConversationChain\n",
    "from langchain_core.runnables.history import RunnableWithMessageHistory\n",
    "from pymongo import MongoClient\n",
    "# from keras.preprocessing.sequence import Sequence\n",
    "\n",
    "#Integrate bedrock api\n",
    "profile = os.environ[\"AWS_PROFILE\"]\n",
    "\n",
    "#Create a session using the specified profile\n",
    "session = boto3.Session(profile_name=profile)\n",
    "bedrock_runtime = boto3.client(\n",
    "    service_name=\"bedrock-runtime\",\n",
    "    region_name=\"us-west-2\",\n",
    ")\n",
    "\n",
    "\n",
    "#Initializing the llm model\n",
    "modelId = \"anthropic.claude-v2\"\n",
    "cl_llm = Bedrock(\n",
    "    model_id=modelId,\n",
    "    client=bedrock_runtime,\n",
    "    model_kwargs={\"max_tokens_to_sample\": 500},\n",
    ")\n",
    "\n",
    "\n",
    "# Creating a prompt template\n",
    "prompt = PromptTemplate(template=\"\"\"You are Sales Chatbot Assistant, designed to assist with inquiries related to business loans. \n",
    "                        \n",
    "                        Focused Answers: Provide answers that directly align with the content of the document. Do not speculate, provide opinions, or invent information that is not explicitly stated in the document.\n",
    "                        \n",
    "                        Negative Prompt Recognition: If a user expresses dissatisfaction or frustration, acknowledge their sentiment empathetically and aim to address their concerns positively. Respond with understanding and offer assistance to resolve their issues.\n",
    "                        \n",
    "                        Off-Topic Detection and Handling: If a user attempts to lead the conversation off-topic, gently steer the discussion back to the subject of business loans. Provide guidance or redirect the conversation by saying \"Let's focus on business loans. Could you please provide more details or questions related to that topic?\"\n",
    "                        \n",
    "                        Boundary Definition and Implementation: Your role is defined as a Sales Chatbot Assistant. Please maintain this role regardless of user requests to change your profession. Communicate the scope of your capabilities clearly to users. If a user makes a request beyond your capabilities, politely inform them and offer assistance within your designated scope. For example, \"I'm here to help with business loans. If you have questions within that domain, feel free to ask.\"\n",
    "                        \n",
    "                        Unknown Handling: If you cannot find a clear and relevant answer within the document, respond with \"I couldn't understand the context of this question, could you please rephrase it? \"\n",
    "                        \n",
    "                        Context: {context}\n",
    "                        chat_history: {chat_history}\n",
    "                        Question: {question} \n",
    "                        Helpful Answer:\"\"\", \n",
    "                        input_variables=[\"context\", \"question\", \"chat_history\"])\n",
    "\n",
    "memory = ConversationBufferMemory(memory_key=\"chat_history\", return_messages=True, output_key=\"answer\", llm=cl_llm)\n",
    "# # memory.chat_memory.add_user_message(\"You will be acting as a career coach. Your goal is to give career advice to users. if the answer is not in the scope of the document or your persona, respond, to raise a query with Shubham.\")\n",
    "# memory.chat_memory.add_ai_message(\"I am a career coach and give career advice\")\n",
    "\n",
    "\n",
    "#Load the document\n",
    "loader = PyPDFLoader(\"C:/Users/siddharthtiwari1/Downloads/business-loan.pdf\")\n",
    "data = loader.load()\n",
    "\n",
    "# #Text splitting\n",
    "text_splitter = RecursiveCharacterTextSplitter(chunk_size=500, separators=[\"\\n\", \",\", \".\"], chunk_overlap=0)\n",
    "text_splits = text_splitter.split_documents(data)\n",
    "\n",
    "#Text embedding model\n",
    "embeddings = BedrockEmbeddings(client=bedrock_runtime, model_id=\"amazon.titan-embed-text-v1\")\n",
    "\n",
    "vectorstore = Chroma.from_documents(documents=text_splits, embedding=embeddings)\n",
    "\n",
    "retriever = vectorstore.as_retriever()\n",
    "\n",
    "qa_chain = ConversationalRetrievalChain.from_llm(\n",
    "    llm = cl_llm,\n",
    "    retriever = retriever,\n",
    "    verbose = True,\n",
    "    memory = memory,\n",
    "    combine_docs_chain_kwargs={\"prompt\": prompt},\n",
    "    )\n",
    "\n",
    "\n",
    "\n",
    "\n",
    "\n",
    "import ipywidgets as ipw\n",
    "from IPython.display import display, clear_output\n",
    "\n",
    "class ChatUX:\n",
    "    \"\"\" A chat UX using IPWidgets\n",
    "    \"\"\"\n",
    "    def __init__(self, qa, retrievalChain = False):\n",
    "        self.qa = qa\n",
    "        self.name = None\n",
    "        self.b=None\n",
    "        self.retrievalChain = retrievalChain\n",
    "        self.out = ipw.Output()\n",
    "\n",
    "\n",
    "    def start_chat(self):\n",
    "        print(\"Starting chat bot\")\n",
    "        display(self.out)\n",
    "        self.chat(None)\n",
    "\n",
    "    def chat(self, _):\n",
    "        if self.name is None:\n",
    "            prompt = \"\"\n",
    "        else: \n",
    "            prompt = self.name.value\n",
    "        if 'q' == prompt or 'quit' == prompt or 'Q' == prompt:\n",
    "            print(\"Thank you , that was a nice chat!!\")\n",
    "            return\n",
    "        elif len(prompt) > 0:\n",
    "            with self.out:\n",
    "                thinking = ipw.Label(value=\"Thinking...\")\n",
    "                display(thinking)\n",
    "                try:\n",
    "                    if self.retrievalChain:\n",
    "                        result = self.qa.run({'question': prompt })\n",
    "                    else:\n",
    "                        result = self.qa.run({'input': prompt }) #, 'history':chat_history})\n",
    "                except:\n",
    "                    result = \"No answer\"\n",
    "                thinking.value=\"\"\n",
    "                print(f\"AI:{result}\")\n",
    "                self.name.disabled = True\n",
    "                self.b.disabled = True\n",
    "                self.name = None\n",
    "        if self.name is None:\n",
    "            with self.out:\n",
    "                self.name = ipw.Text(description=\"You:\", placeholder='q to quit')\n",
    "                self.b = ipw.Button(description=\"Send\")\n",
    "                self.b.on_click(self.chat)\n",
    "                display(ipw.Box(children=(self.name, self.b)))\n",
    "\n",
    "chat = ChatUX(qa_chain, retrievalChain=True)\n",
    "chat.start_chat()"
   ]
  },
  {
   "cell_type": "code",
   "execution_count": 5,
   "id": "2732cd09-216d-4e05-b281-5d99169f5c0e",
   "metadata": {},
   "outputs": [],
   "source": [
    "import wget"
   ]
  },
  {
   "cell_type": "code",
   "execution_count": 6,
   "id": "93837c8f-7b69-4723-9339-1bad9bb4b7f5",
   "metadata": {},
   "outputs": [],
   "source": [
    "# wget.download(\"http://downloads.cs.stanford.edu/nlp/data/glove.6B.zip\")"
   ]
  },
  {
   "cell_type": "code",
   "execution_count": 7,
   "id": "9081babe-17c1-48b4-a480-97cd3df326c3",
   "metadata": {},
   "outputs": [
    {
     "name": "stdout",
     "output_type": "stream",
     "text": [
      "glove.6B.zip unzipped successfully!\n"
     ]
    }
   ],
   "source": [
    "import zipfile\n",
    "\n",
    "# Specify the zip file path (replace 'path/to/glove.6B.zip' with the actual location)\n",
    "zip_ref = zipfile.ZipFile('glove.6B.zip', 'r')\n",
    "\n",
    "# Extract all files to the current directory (optional, you can specify an extraction path)\n",
    "zip_ref.extractall()\n",
    "\n",
    "zip_ref.close()\n",
    "\n",
    "print(\"glove.6B.zip unzipped successfully!\")"
   ]
  },
  {
   "cell_type": "code",
   "execution_count": 9,
   "id": "9fc36dce-5245-4c7c-8401-f7df281d31fd",
   "metadata": {},
   "outputs": [],
   "source": [
    "loader = PyPDFLoader(\"C:/Users/siddharthtiwari1/Downloads/Raj_resume.pdf\")\n",
    "data = loader.load()\n"
   ]
  },
  {
   "cell_type": "code",
   "execution_count": 10,
   "id": "ee37c834-f58c-4802-ab13-41749842dcfa",
   "metadata": {
    "scrolled": true
   },
   "outputs": [
    {
     "name": "stdout",
     "output_type": "stream",
     "text": [
      "                                               data1\n",
      "0  (page_content, SHUBHAM  BHASHKARRAO  KALPANDE ...\n",
      "1  (page_content, TECHNICAL  SKILLS  \\n \\n \\n \\nQ...\n",
      "2  (page_content,  \\nSTRENGTH : \\n Proficient in...\n",
      "3  (page_content,  Project  #1 (Project)  \\n \\n \\...\n"
     ]
    }
   ],
   "source": [
    "import pandas as pd\n",
    "\n",
    "df = pd.DataFrame(data, columns=['data1','data2','data3'])\n",
    "\n",
    "df.drop(columns=['data2','data3'],inplace=True)\n",
    "\n",
    "# df.to_excel('output.xlsx', index=False)\n",
    "\n",
    "print(df)\n"
   ]
  },
  {
   "cell_type": "code",
   "execution_count": 11,
   "id": "9e4c97f9-9343-465e-846b-fc00abd8d2f3",
   "metadata": {},
   "outputs": [
    {
     "name": "stdout",
     "output_type": "stream",
     "text": [
      "                                               data1\n",
      "0  SHUBHAM  BHASHKARRAO  KALPANDE  \\nMob  No:  82...\n",
      "1  TECHNICAL  SKILLS  \\n \\n \\n \\nQUALIFICATION  \\...\n",
      "2   \\nSTRENGTH : \\n Proficient in quickly unders...\n",
      "3   Project  #1 (Project)  \\n \\n \\n \\nProject  Na...\n"
     ]
    }
   ],
   "source": [
    "df['data1'] = df['data1'].apply(lambda x: ' '.join(x[1:]))\n",
    "\n",
    "# df.to_excel('output.xlsx', index=False)\n",
    "\n",
    "print(df)"
   ]
  },
  {
   "cell_type": "code",
   "execution_count": 13,
   "id": "ae2fcace-b6d2-41e0-ab57-965a67abd25d",
   "metadata": {},
   "outputs": [],
   "source": [
    "import numpy as np\n",
    "import pandas as pd\n",
    "import nltk\n",
    "import re\n",
    "from nltk.corpus import stopwords\n",
    "from nltk.tokenize import word_tokenize\n",
    "from wordcloud import WordCloud\n",
    "import matplotlib.pyplot as plt"
   ]
  },
  {
   "cell_type": "code",
   "execution_count": 14,
   "id": "1b6d7f9e-cb13-4a55-bc9a-9ebde89aec46",
   "metadata": {},
   "outputs": [
    {
     "name": "stderr",
     "output_type": "stream",
     "text": [
      "[nltk_data] Downloading package stopwords to\n",
      "[nltk_data]     C:\\Users\\siddharthtiwari1\\AppData\\Roaming\\nltk_data...\n",
      "[nltk_data]   Package stopwords is already up-to-date!\n",
      "[nltk_data] Downloading package punkt to\n",
      "[nltk_data]     C:\\Users\\siddharthtiwari1\\AppData\\Roaming\\nltk_data...\n",
      "[nltk_data]   Package punkt is already up-to-date!\n"
     ]
    },
    {
     "data": {
      "text/plain": [
       "True"
      ]
     },
     "execution_count": 14,
     "metadata": {},
     "output_type": "execute_result"
    }
   ],
   "source": [
    "nltk.download('stopwords')\n",
    "nltk.download('punkt')"
   ]
  },
  {
   "cell_type": "code",
   "execution_count": 15,
   "id": "9d5091d6-3fea-4574-ba0c-c192c2cc0b8b",
   "metadata": {},
   "outputs": [
    {
     "name": "stderr",
     "output_type": "stream",
     "text": [
      "<>:11: SyntaxWarning: invalid escape sequence '\\s'\n",
      "<>:11: SyntaxWarning: invalid escape sequence '\\s'\n",
      "C:\\Users\\siddharthtiwari1\\AppData\\Local\\Temp\\ipykernel_37748\\3086867247.py:11: SyntaxWarning: invalid escape sequence '\\s'\n",
      "  text = re.sub('\\s+', ' ', text)\n"
     ]
    },
    {
     "data": {
      "text/html": [
       "<div>\n",
       "<style scoped>\n",
       "    .dataframe tbody tr th:only-of-type {\n",
       "        vertical-align: middle;\n",
       "    }\n",
       "\n",
       "    .dataframe tbody tr th {\n",
       "        vertical-align: top;\n",
       "    }\n",
       "\n",
       "    .dataframe thead th {\n",
       "        text-align: right;\n",
       "    }\n",
       "</style>\n",
       "<table border=\"1\" class=\"dataframe\">\n",
       "  <thead>\n",
       "    <tr style=\"text-align: right;\">\n",
       "      <th></th>\n",
       "      <th>data1</th>\n",
       "      <th>transformed_text</th>\n",
       "    </tr>\n",
       "  </thead>\n",
       "  <tbody>\n",
       "    <tr>\n",
       "      <th>0</th>\n",
       "      <td>SHUBHAM  BHASHKARRAO  KALPANDE  \\nMob  No:  82...</td>\n",
       "      <td>shubham bhashkarrao kalpande mob no 8208933816...</td>\n",
       "    </tr>\n",
       "    <tr>\n",
       "      <th>1</th>\n",
       "      <td>TECHNICAL  SKILLS  \\n \\n \\n \\nQUALIFICATION  \\...</td>\n",
       "      <td>technical skills qualification b e cse sgbau u...</td>\n",
       "    </tr>\n",
       "    <tr>\n",
       "      <th>2</th>\n",
       "      <td>\\nSTRENGTH : \\n Proficient in quickly unders...</td>\n",
       "      <td>strength proficient quickly understanding proj...</td>\n",
       "    </tr>\n",
       "    <tr>\n",
       "      <th>3</th>\n",
       "      <td>Project  #1 (Project)  \\n \\n \\n \\nProject  Na...</td>\n",
       "      <td>project 1 project project name megacorp wareho...</td>\n",
       "    </tr>\n",
       "  </tbody>\n",
       "</table>\n",
       "</div>"
      ],
      "text/plain": [
       "                                               data1  \\\n",
       "0  SHUBHAM  BHASHKARRAO  KALPANDE  \\nMob  No:  82...   \n",
       "1  TECHNICAL  SKILLS  \\n \\n \\n \\nQUALIFICATION  \\...   \n",
       "2   \\nSTRENGTH : \\n Proficient in quickly unders...   \n",
       "3   Project  #1 (Project)  \\n \\n \\n \\nProject  Na...   \n",
       "\n",
       "                                    transformed_text  \n",
       "0  shubham bhashkarrao kalpande mob no 8208933816...  \n",
       "1  technical skills qualification b e cse sgbau u...  \n",
       "2  strength proficient quickly understanding proj...  \n",
       "3  project 1 project project name megacorp wareho...  "
      ]
     },
     "execution_count": 15,
     "metadata": {},
     "output_type": "execute_result"
    }
   ],
   "source": [
    "df['transformed_text'] = df['data1'].str.lower()\n",
    "\n",
    "STOPWORDS = set(stopwords.words('english'))\n",
    "def remove_stopwords(text):\n",
    "    return \" \".join([word for word in text.split() if word not in STOPWORDS])\n",
    "df['transformed_text'] = df['transformed_text'].apply(lambda x: remove_stopwords(x))\n",
    "\n",
    "import re\n",
    "def remove_spl_chars(text):\n",
    "    text = re.sub('[^a-zA-Z0-9]', ' ', text)\n",
    "    text = re.sub('\\s+', ' ', text)\n",
    "    return text\n",
    "df['transformed_text'] = df['transformed_text'].apply(lambda x: remove_spl_chars(x))\n",
    "\n",
    "df.head()"
   ]
  },
  {
   "cell_type": "code",
   "execution_count": 40,
   "id": "01c26812-4afc-4dc3-a2ad-984dd230b7bf",
   "metadata": {},
   "outputs": [],
   "source": [
    "# df['transformed_text'] = df['data1'].apply(preprocess_text)\n",
    "\n",
    "# df['transformed_text'] = df['transformed_text'].apply(' '.join)"
   ]
  },
  {
   "cell_type": "code",
   "execution_count": 16,
   "id": "8e40a2ae-5e4f-4738-90c4-ad5cb05e6719",
   "metadata": {},
   "outputs": [
    {
     "name": "stdout",
     "output_type": "stream",
     "text": [
      "0    shubham bhashkarrao kalpande mob no 8208933816...\n",
      "1    technical skills qualification b e cse sgbau u...\n",
      "2    strength proficient quickly understanding proj...\n",
      "3    project 1 project project name megacorp wareho...\n",
      "Name: transformed_text, dtype: object\n"
     ]
    }
   ],
   "source": [
    "x = df['transformed_text']\n",
    "print(x)"
   ]
  },
  {
   "cell_type": "code",
   "execution_count": 17,
   "id": "9d25682b-5085-462c-a51b-6894e3bc08ea",
   "metadata": {},
   "outputs": [
    {
     "data": {
      "text/plain": [
       "0    shubham bhashkarrao kalpande mob no 8208933816...\n",
       "1    technical skills qualification b e cse sgbau u...\n",
       "2    strength proficient quickly understanding proj...\n",
       "3    project 1 project project name megacorp wareho...\n",
       "Name: transformed_text, dtype: object"
      ]
     },
     "execution_count": 17,
     "metadata": {},
     "output_type": "execute_result"
    }
   ],
   "source": [
    "df['transformed_text']"
   ]
  },
  {
   "cell_type": "code",
   "execution_count": 20,
   "id": "28103921-9165-4f82-a7b6-b4ffbf974c7a",
   "metadata": {},
   "outputs": [],
   "source": [
    "from tensorflow.keras.preprocessing.text import Tokenizer\n",
    "from tensorflow.keras.preprocessing.sequence import pad_sequences\n",
    "import numpy as np"
   ]
  },
  {
   "cell_type": "code",
   "execution_count": 21,
   "id": "d2cf76a3-3d20-44e4-a9e3-a316f625faa4",
   "metadata": {},
   "outputs": [
    {
     "name": "stdout",
     "output_type": "stream",
     "text": [
      "{'spring': 1, 'using': 2, 'project': 3, 'good': 4, 'design': 5, 'java': 6, '1': 7, 'development': 8, 'boot': 9, 'knowledge': 10, 'like': 11, 'involved': 12, 'technologies': 13, 'data': 14, '8': 15, 'developed': 16, '10': 17, 'mvc': 18, 'patterns': 19, 'management': 20, 'team': 21, 'experience': 22, 'server': 23, 'programming': 24, 'orm': 25, 'restful': 26, 'web': 27, 'tomcat': 28, 'software': 29, 'skills': 30, 'maven': 31, 'junit': 32, 'persistence': 33, 'layer': 34, 'webservice': 35, 'framework': 36, 'tool': 37, 'security': 38, 'implementation': 39, 'etc': 40, 'servers': 41, 'analysis': 42, 'new': 43, 'date': 44, 'summer': 45, 'technology': 46, 'service': 47, 'jpa': 48, 'grafana': 49, 'unit': 50, 'sts': 51, 'requirements': 52, 'stock': 53, 'email': 54, 'api': 55, 'services': 56, 'controller': 57, 'architecture': 58, 'dao': 59, 'developing': 60, 'skill': 61, 'hibernate': 62, 'mapping': 63, 'pattern': 64, 'application': 65, 'wild': 66, 'fly': 67, 'worked': 68, 'oracle': 69, 'mysql': 70, 'understanding': 71, 'process': 72, 'testing': 73, 'communication': 74, 'maharashtra': 75, 'state': 76, 'board': 77, 'experienced': 78, 'rest': 79, 'system': 80, 'html': 81, 'css': 82, 'jquery': 83, 'javascript': 84, 'git': 85, 'eclipse': 86, 'effective': 87, 'members': 88, 'common': 89, 'details': 90, 'name': 91, 'automations': 92, 'customer': 93, 'premises': 94, 'equipment': 95, 'description': 96, 'network': 97, 'oracle10g': 98, 'gitlab': 99, '0': 100, 'gathering': 101, 'classes': 102, 'apis': 103, 'code': 104, 'test': 105, 'size': 106, 'warehousing': 107, 'concept': 108, 'thyme': 109, 'leaf': 110, 'forms': 111, 'shubham': 112, 'bhashkarrao': 113, 'kalpande': 114, 'mob': 115, 'no': 116, '8208933816': 117, 'id': 118, 'shubhk1111995': 119, 'gmail': 120, 'com': 121, 'profesional': 122, 'summary': 123, 'years': 124, 'side': 125, 'front': 126, 'end': 127, 'related': 128, 'micro': 129, 'model': 130, 'view': 131, 'ioc': 132, 'core': 133, 'along': 134, 'object': 135, 'oriented': 136, 'collection': 137, 'features': 138, 'inheritance': 139, 'association': 140, 'j2ee': 141, 'singleton': 142, 'strategy': 143, 'work': 144, 'json': 145, 'parsing': 146, 'jackson': 147, 'gson': 148, 'apies': 149, 'hands': 150, 'databases': 151, 'mongodb': 152, 'life': 153, 'cycle': 154, 'sdlc': 155, 'areas': 156, 'applications': 157, 'analytical': 158, 'monitoring': 159, 'zeal': 160, 'learn': 161, 'employment': 162, 'history': 163, 'collabera': 164, 'pvt': 165, 'ltd': 166, 'vadodara': 167, 'gujrat': 168, 'primary': 169, 'role': 170, 'developer': 171, 'duration': 172, 'year': 173, 'from': 174, 'july': 175, '2021': 176, 'till': 177, 'technical': 178, 'qualification': 179, 'b': 180, 'e': 181, 'cse': 182, 'sgbau': 183, 'university': 184, '7': 185, '98': 186, 'cgpa': 187, '2018': 188, '12th': 189, 'general': 190, 'science': 191, '61': 192, '23': 193, '2014': 194, '10th': 195, '75': 196, '40': 197, '2012': 198, 'awareness': 199, 'languages': 200, 'c': 201, 'jee': 202, 'se': 203, 'jdbc': 204, 'ee': 205, 'servlet': 206, 'jsp': 207, 'frameworks': 208, 'module': 209, 'aop': 210, 'with': 211, 'transaction': 212, 'cloud': 213, 'distributed': 214, 'soap': 215, 'operating': 216, 'windows7': 217, 'linux': 218, 'ubuntu': 219, 'ajax': 220, 'database': 221, '11g': 222, '5': 223, 'postgresql': 224, 'weblogic': 225, 'tools': 226, 'gradle': 227, 'log': 228, '4j': 229, 'jenkins': 230, 'jira': 231, 'docker': 232, 'prometheus': 233, 'svn': 234, 'mockito': 235, 'ide': 236, 'strength': 237, 'proficient': 238, 'quickly': 239, 'solutions': 240, 'strong': 241, 'excellent': 242, 'time': 243, 'abilities': 244, 'ensuring': 245, 'timely': 246, 'completion': 247, 'tasks': 248, 'projects': 249, 'skilled': 250, 'adapting': 251, 'environments': 252, 'collaborating': 253, 'working': 254, 'effectively': 255, 'group': 256, 'settings': 257, 'achieve': 258, 'goals': 259, 'outstanding': 260, 'presentation': 261, 'facilitating': 262, 'interaction': 263, 'stakeholders': 264, 'clients': 265, '2': 266, 'vcats': 267, 'telecom': 268, 'client': 269, 'largest': 270, 'american': 271, 'wireless': 272, 'operator': 273, 'involves': 274, 'configure': 275, 'troubleshoot': 276, 'router': 277, 'set': 278, 'top': 279, 'box': 280, 'gateways': 281, 'switches': 282, 'without': 283, 'engineer': 284, 'support': 285, 'executing': 286, 'playbook': 287, 'device': 288, 'configuration': 289, 'promethous': 290, 'component': 291, 'interact': 292, '3rd': 293, 'party': 294, 'created': 295, 'controls': 296, 'dashboard': 297, 'represent': 298, 'status': 299, 'review': 300, 'megacorp': 301, 'supply': 302, 'chain': 303, 'distribution': 304, 'mfg': 305, 'retailers': 306, 'storage': 307, 'multiple': 308, 'channels': 309, 'controlled': 310, 'warehouse': 311, 'admin': 312, 'provides': 313, 'different': 314, 'users': 315, 'also': 316, 'includes': 317, 'integration': 318, 'bu': 319, 'siness': 320, 'sales': 321, 'purchase': 322, 'inovice': 323, 'shipping': 324, 'jax': 325, 'rs': 326, 'log4j': 327, 'responsibility': 328, 'bootstrap': 329, 'entities': 330, 'controllers': 331, 'ui': 332, 'validate': 333, 'supported': 334, 'utilities': 335, 'otp': 336, 'participated': 337, 'scrum': 338, 'meetings': 339, 'identify': 340, 'bugs': 341, 'debugging': 342, 'personal': 343, 'birth': 344, 'november': 345, '1995': 346, 'gender': 347, 'male': 348, 'language': 349, 'known': 350, 'english': 351, 'hindi': 352, 'marathi': 353, 'permanent': 354, 'address': 355, 'near': 356, 'iti': 357, 'collage': 358, 'chandur': 359, 'rly': 360, 'road': 361, 'nandgaon': 362, 'khandeshwar': 363, 'pin': 364, '444708': 365, 'declaration': 366, 'hereby': 367, 'declare': 368, 'information': 369, 'furnished': 370, 'true': 371, 'best': 372, 'belief': 373, 'signature': 374}\n",
      "374\n"
     ]
    }
   ],
   "source": [
    "# tokenize text\n",
    "tokenizer = Tokenizer()\n",
    "tokenizer.fit_on_texts(df['transformed_text'])\n",
    "\n",
    "word_index = tokenizer.word_index\n",
    "print(word_index)\n",
    "vocab_size = len(word_index)\n",
    "print(vocab_size)"
   ]
  },
  {
   "cell_type": "code",
   "execution_count": 22,
   "id": "cf92cb1e-e284-468c-a733-85af16e47172",
   "metadata": {},
   "outputs": [
    {
     "data": {
      "text/plain": [
       "1366"
      ]
     },
     "execution_count": 22,
     "metadata": {},
     "output_type": "execute_result"
    }
   ],
   "source": [
    "max(len(data) for data in df['transformed_text'])\n"
   ]
  },
  {
   "cell_type": "code",
   "execution_count": 23,
   "id": "c0f88d5c-4d22-40f8-9e65-3c619dea2a3e",
   "metadata": {},
   "outputs": [],
   "source": [
    "sequences = tokenizer.texts_to_sequences(df['transformed_text'])\n",
    "padded_seq = pad_sequences(sequences, maxlen=1366, padding='post', truncating='post')"
   ]
  },
  {
   "cell_type": "code",
   "execution_count": 24,
   "id": "c6feb09f-c985-40ef-ae4f-ec7b71ea11ca",
   "metadata": {},
   "outputs": [
    {
     "data": {
      "text/plain": [
       "array([112, 113, 114, ...,   0,   0,   0])"
      ]
     },
     "execution_count": 24,
     "metadata": {},
     "output_type": "execute_result"
    }
   ],
   "source": [
    "padded_seq[0]"
   ]
  },
  {
   "cell_type": "code",
   "execution_count": 47,
   "id": "861420c8-f8c2-44c1-8a39-fe0641800c7f",
   "metadata": {},
   "outputs": [],
   "source": [
    "# create embedding index\n",
    "embedding_index = {}\n",
    "with open('glove.6B.50d.txt', encoding='utf-8') as f:\n",
    "    for line in f:\n",
    "        values = line.split()\n",
    "        word = values[0]\n",
    "        coefs = np.asarray(values[1:], dtype='float32')\n",
    "        embedding_index[word] = coefs\n",
    "\n",
    "# print(embedding_index)"
   ]
  },
  {
   "cell_type": "code",
   "execution_count": 48,
   "id": "622166d7-3f9c-40d0-ac3e-b476cd5611bf",
   "metadata": {},
   "outputs": [],
   "source": [
    "embed_index_len = embedding_index['good'].shape[0]"
   ]
  },
  {
   "cell_type": "code",
   "execution_count": 49,
   "id": "e969bc40-193e-4854-a897-61c73500d497",
   "metadata": {},
   "outputs": [],
   "source": [
    "# create embedding matrix\n",
    "embedding_matrix = np.zeros((vocab_size+1, 50))\n",
    "for word, i in word_index.items():\n",
    "    embedding_vector = embedding_index.get(word)\n",
    "    if embedding_vector is not None:\n",
    "        embedding_matrix[i] = embedding_vector"
   ]
  },
  {
   "cell_type": "code",
   "execution_count": 50,
   "id": "d379ce1b-e1d5-494d-bfab-b8596b0e2d6f",
   "metadata": {},
   "outputs": [
    {
     "data": {
      "text/plain": [
       "(375, 50)"
      ]
     },
     "execution_count": 50,
     "metadata": {},
     "output_type": "execute_result"
    }
   ],
   "source": [
    "embedding_matrix.shape\n"
   ]
  },
  {
   "cell_type": "code",
   "execution_count": 29,
   "id": "df960871-1944-4cc2-ab24-8b61fc7ccccf",
   "metadata": {},
   "outputs": [
    {
     "data": {
      "text/plain": [
       "array([[ 0.        ,  0.        ,  0.        , ...,  0.        ,\n",
       "         0.        ,  0.        ],\n",
       "       [-0.037475  ,  1.02550006, -0.63145   , ..., -0.72604001,\n",
       "        -0.69318998,  0.35023999],\n",
       "       [ 0.52403998, -0.39838001,  0.70411998, ...,  0.14325   ,\n",
       "         0.020076  , -0.35484001],\n",
       "       ...,\n",
       "       [-0.91571999,  0.60345   , -0.31077   , ..., -0.056032  ,\n",
       "         0.074988  ,  0.76091999],\n",
       "       [-0.14132001,  0.28079   , -0.64191997, ...,  0.52801001,\n",
       "         0.19503   , -0.60426003],\n",
       "       [-0.12082   ,  0.60595   , -0.45932999, ...,  0.084379  ,\n",
       "        -0.18996   ,  0.13889   ]])"
      ]
     },
     "execution_count": 29,
     "metadata": {},
     "output_type": "execute_result"
    }
   ],
   "source": [
    "embedding_matrix"
   ]
  },
  {
   "cell_type": "code",
   "execution_count": 30,
   "id": "8405733f-deea-47f7-814b-84b6069dd626",
   "metadata": {},
   "outputs": [
    {
     "name": "stdout",
     "output_type": "stream",
     "text": [
      "[[-0.037475    1.02550006 -0.63145    ... -0.72604001 -0.69318998\n",
      "   0.35023999]\n",
      " [ 0.52403998 -0.39838001  0.70411998 ...  0.14325     0.020076\n",
      "  -0.35484001]\n",
      " [ 1.16030002  0.65812999  0.3452     ...  0.29311001 -0.30023\n",
      "   0.26280999]\n",
      " ...\n",
      " [-0.91571999  0.60345    -0.31077    ... -0.056032    0.074988\n",
      "   0.76091999]\n",
      " [-0.14132001  0.28079    -0.64191997 ...  0.52801001  0.19503\n",
      "  -0.60426003]\n",
      " [-0.12082     0.60595    -0.45932999 ...  0.084379   -0.18996\n",
      "   0.13889   ]]\n"
     ]
    },
    {
     "data": {
      "text/plain": [
       "(374, 50)"
      ]
     },
     "execution_count": 30,
     "metadata": {},
     "output_type": "execute_result"
    }
   ],
   "source": [
    "new_embedding_matrix = embedding_matrix[1:]\n",
    "\n",
    "print(new_embedding_matrix)\n",
    "new_embedding_matrix.shape"
   ]
  },
  {
   "cell_type": "code",
   "execution_count": 44,
   "id": "7b788097-3487-4706-8833-ffd8fa0b96e5",
   "metadata": {
    "scrolled": true
   },
   "outputs": [
    {
     "name": "stdout",
     "output_type": "stream",
     "text": [
      "(375, 50)\n",
      "float64\n"
     ]
    }
   ],
   "source": [
    "np.save('embedding_matrix.npy', embedding_matrix)\n",
    "embeddings_npy = np.load(\"embedding_matrix.npy\", allow_pickle=True)\n",
    "\n",
    "print(embeddings_npy.shape)\n",
    "print(embeddings_npy.dtype)"
   ]
  },
  {
   "cell_type": "code",
   "execution_count": 52,
   "id": "24a8e3e3-e6e5-4c88-91ef-c095075110a4",
   "metadata": {},
   "outputs": [
    {
     "ename": "ValueError",
     "evalue": "Unrecognized keyword arguments passed to Embedding: {'weights': [array([[ 0.        ,  0.        ,  0.        , ...,  0.        ,\n         0.        ,  0.        ],\n       [-0.037475  ,  1.02550006, -0.63145   , ..., -0.72604001,\n        -0.69318998,  0.35023999],\n       [ 0.52403998, -0.39838001,  0.70411998, ...,  0.14325   ,\n         0.020076  , -0.35484001],\n       ...,\n       [-0.91571999,  0.60345   , -0.31077   , ..., -0.056032  ,\n         0.074988  ,  0.76091999],\n       [-0.14132001,  0.28079   , -0.64191997, ...,  0.52801001,\n         0.19503   , -0.60426003],\n       [-0.12082   ,  0.60595   , -0.45932999, ...,  0.084379  ,\n        -0.18996   ,  0.13889   ]])]}",
     "output_type": "error",
     "traceback": [
      "\u001b[1;31m---------------------------------------------------------------------------\u001b[0m",
      "\u001b[1;31mValueError\u001b[0m                                Traceback (most recent call last)",
      "Cell \u001b[1;32mIn[52], line 2\u001b[0m\n\u001b[0;32m      1\u001b[0m \u001b[38;5;28;01mfrom\u001b[39;00m \u001b[38;5;21;01mtensorflow\u001b[39;00m\u001b[38;5;21;01m.\u001b[39;00m\u001b[38;5;21;01mkeras\u001b[39;00m\u001b[38;5;21;01m.\u001b[39;00m\u001b[38;5;21;01mlayers\u001b[39;00m \u001b[38;5;28;01mimport\u001b[39;00m Embedding\n\u001b[1;32m----> 2\u001b[0m embedding_layer \u001b[38;5;241m=\u001b[39m \u001b[43mEmbedding\u001b[49m\u001b[43m(\u001b[49m\u001b[43minput_dim\u001b[49m\u001b[38;5;241;43m=\u001b[39;49m\u001b[43mvocab_size\u001b[49m\u001b[43m,\u001b[49m\u001b[43m \u001b[49m\u001b[43moutput_dim\u001b[49m\u001b[38;5;241;43m=\u001b[39;49m\u001b[43membed_index_len\u001b[49m\u001b[43m,\u001b[49m\u001b[43m \u001b[49m\u001b[43mweights\u001b[49m\u001b[43m \u001b[49m\u001b[38;5;241;43m=\u001b[39;49m\u001b[43m \u001b[49m\u001b[43m[\u001b[49m\u001b[43membedding_matrix\u001b[49m\u001b[43m]\u001b[49m\u001b[43m,\u001b[49m\u001b[43m \u001b[49m\u001b[43mtrainable\u001b[49m\u001b[38;5;241;43m=\u001b[39;49m\u001b[38;5;28;43;01mFalse\u001b[39;49;00m\u001b[43m)\u001b[49m\n",
      "File \u001b[1;32m~\\AppData\\Local\\Programs\\Python\\Python312\\Lib\\site-packages\\keras\\src\\layers\\core\\embedding.py:81\u001b[0m, in \u001b[0;36mEmbedding.__init__\u001b[1;34m(self, input_dim, output_dim, embeddings_initializer, embeddings_regularizer, embeddings_constraint, mask_zero, lora_rank, **kwargs)\u001b[0m\n\u001b[0;32m     70\u001b[0m \u001b[38;5;28;01mdef\u001b[39;00m \u001b[38;5;21m__init__\u001b[39m(\n\u001b[0;32m     71\u001b[0m     \u001b[38;5;28mself\u001b[39m,\n\u001b[0;32m     72\u001b[0m     input_dim,\n\u001b[1;32m   (...)\u001b[0m\n\u001b[0;32m     79\u001b[0m     \u001b[38;5;241m*\u001b[39m\u001b[38;5;241m*\u001b[39mkwargs,\n\u001b[0;32m     80\u001b[0m ):\n\u001b[1;32m---> 81\u001b[0m     \u001b[38;5;28;43msuper\u001b[39;49m\u001b[43m(\u001b[49m\u001b[43m)\u001b[49m\u001b[38;5;241;43m.\u001b[39;49m\u001b[38;5;21;43m__init__\u001b[39;49m\u001b[43m(\u001b[49m\u001b[38;5;241;43m*\u001b[39;49m\u001b[38;5;241;43m*\u001b[39;49m\u001b[43mkwargs\u001b[49m\u001b[43m)\u001b[49m\n\u001b[0;32m     82\u001b[0m     \u001b[38;5;28mself\u001b[39m\u001b[38;5;241m.\u001b[39minput_dim \u001b[38;5;241m=\u001b[39m input_dim\n\u001b[0;32m     83\u001b[0m     \u001b[38;5;28mself\u001b[39m\u001b[38;5;241m.\u001b[39moutput_dim \u001b[38;5;241m=\u001b[39m output_dim\n",
      "File \u001b[1;32m~\\AppData\\Local\\Programs\\Python\\Python312\\Lib\\site-packages\\keras\\src\\layers\\layer.py:265\u001b[0m, in \u001b[0;36mLayer.__init__\u001b[1;34m(self, activity_regularizer, trainable, dtype, autocast, name, **kwargs)\u001b[0m\n\u001b[0;32m    263\u001b[0m     \u001b[38;5;28mself\u001b[39m\u001b[38;5;241m.\u001b[39m_input_shape_arg \u001b[38;5;241m=\u001b[39m input_shape_arg\n\u001b[0;32m    264\u001b[0m \u001b[38;5;28;01mif\u001b[39;00m kwargs:\n\u001b[1;32m--> 265\u001b[0m     \u001b[38;5;28;01mraise\u001b[39;00m \u001b[38;5;167;01mValueError\u001b[39;00m(\n\u001b[0;32m    266\u001b[0m         \u001b[38;5;124m\"\u001b[39m\u001b[38;5;124mUnrecognized keyword arguments \u001b[39m\u001b[38;5;124m\"\u001b[39m\n\u001b[0;32m    267\u001b[0m         \u001b[38;5;124mf\u001b[39m\u001b[38;5;124m\"\u001b[39m\u001b[38;5;124mpassed to \u001b[39m\u001b[38;5;132;01m{\u001b[39;00m\u001b[38;5;28mself\u001b[39m\u001b[38;5;241m.\u001b[39m\u001b[38;5;18m__class__\u001b[39m\u001b[38;5;241m.\u001b[39m\u001b[38;5;18m__name__\u001b[39m\u001b[38;5;132;01m}\u001b[39;00m\u001b[38;5;124m: \u001b[39m\u001b[38;5;132;01m{\u001b[39;00mkwargs\u001b[38;5;132;01m}\u001b[39;00m\u001b[38;5;124m\"\u001b[39m\n\u001b[0;32m    268\u001b[0m     )\n\u001b[0;32m    270\u001b[0m \u001b[38;5;28mself\u001b[39m\u001b[38;5;241m.\u001b[39mbuilt \u001b[38;5;241m=\u001b[39m \u001b[38;5;28;01mFalse\u001b[39;00m\n\u001b[0;32m    271\u001b[0m \u001b[38;5;28mself\u001b[39m\u001b[38;5;241m.\u001b[39mdtype_policy \u001b[38;5;241m=\u001b[39m dtype_policies\u001b[38;5;241m.\u001b[39mget(dtype)\n",
      "\u001b[1;31mValueError\u001b[0m: Unrecognized keyword arguments passed to Embedding: {'weights': [array([[ 0.        ,  0.        ,  0.        , ...,  0.        ,\n         0.        ,  0.        ],\n       [-0.037475  ,  1.02550006, -0.63145   , ..., -0.72604001,\n        -0.69318998,  0.35023999],\n       [ 0.52403998, -0.39838001,  0.70411998, ...,  0.14325   ,\n         0.020076  , -0.35484001],\n       ...,\n       [-0.91571999,  0.60345   , -0.31077   , ..., -0.056032  ,\n         0.074988  ,  0.76091999],\n       [-0.14132001,  0.28079   , -0.64191997, ...,  0.52801001,\n         0.19503   , -0.60426003],\n       [-0.12082   ,  0.60595   , -0.45932999, ...,  0.084379  ,\n        -0.18996   ,  0.13889   ]])]}"
     ]
    }
   ],
   "source": [
    "from tensorflow.keras.layers import Embedding\n",
    "embedding_layer = Embedding(input_dim=vocab_size, output_dim=embed_index_len, weights = [embedding_matrix], trainable=False)\n"
   ]
  },
  {
   "cell_type": "code",
   "execution_count": 46,
   "id": "10683c7d-4293-4342-a068-ec6d9e540caf",
   "metadata": {},
   "outputs": [
    {
     "ename": "NameError",
     "evalue": "name 'embedding_layer' is not defined",
     "output_type": "error",
     "traceback": [
      "\u001b[1;31m---------------------------------------------------------------------------\u001b[0m",
      "\u001b[1;31mNameError\u001b[0m                                 Traceback (most recent call last)",
      "Cell \u001b[1;32mIn[46], line 1\u001b[0m\n\u001b[1;32m----> 1\u001b[0m \u001b[38;5;28mprint\u001b[39m(\u001b[43membedding_layer\u001b[49m)\n",
      "\u001b[1;31mNameError\u001b[0m: name 'embedding_layer' is not defined"
     ]
    }
   ],
   "source": [
    "print(embedding_layer)"
   ]
  },
  {
   "cell_type": "code",
   "execution_count": null,
   "id": "9f1a889b-b83a-440f-ae99-f6d8c9136993",
   "metadata": {},
   "outputs": [],
   "source": []
  }
 ],
 "metadata": {
  "kernelspec": {
   "display_name": "Python 3.10.2",
   "language": "python",
   "name": "myenv"
  },
  "language_info": {
   "codemirror_mode": {
    "name": "ipython",
    "version": 3
   },
   "file_extension": ".py",
   "mimetype": "text/x-python",
   "name": "python",
   "nbconvert_exporter": "python",
   "pygments_lexer": "ipython3",
   "version": "3.10.2"
  }
 },
 "nbformat": 4,
 "nbformat_minor": 5
}
